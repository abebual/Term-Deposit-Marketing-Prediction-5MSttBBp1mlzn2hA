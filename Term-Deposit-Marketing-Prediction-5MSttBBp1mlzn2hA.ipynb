{
 "cells": [
  {
   "cell_type": "code",
   "execution_count": 43,
   "metadata": {},
   "outputs": [],
   "source": [
    "# Import libraries \n",
    "\n",
    "import pandas as pd \n",
    "import numpy as np\n",
    "from collections import Counter\n",
    "import seaborn as sns\n",
    "import matplotlib.pyplot as plt\n",
    "import matplotlib.ticker as ticker\n",
    "import statsmodels.api as sm #i like statsmodels result table, lets me explore the coefficents more.\n",
    "from sklearn.linear_model import LogisticRegression\n",
    "from sklearn.feature_selection import f_regression\n",
    "from sklearn.model_selection import train_test_split\n",
    "from sklearn.metrics import confusion_matrix\n",
    "from sklearn.model_selection import cross_val_predict\n",
    "from sklearn.metrics import classification_report\n",
    "from sklearn.metrics import accuracy_score\n",
    "from sklearn.metrics import f1_score\n",
    "from sklearn.model_selection import cross_val_score\n",
    "from sklearn.model_selection import GridSearchCV\n",
    "from sklearn.ensemble import RandomForestClassifier\n",
    "from sklearn.ensemble import GradientBoostingClassifier\n",
    "from lazypredict.Supervised import LazyClassifier\n",
    "\n",
    "from sklearn.svm import SVC\n",
    "from sklearn.linear_model import RidgeClassifier\n",
    "from sklearn.ensemble import AdaBoostClassifier\n",
    "from sklearn.neighbors import KNeighborsClassifier\n",
    "from sklearn.ensemble import BaggingClassifier\n",
    "from sklearn.naive_bayes import BernoulliNB\n",
    "from sklearn.neural_network import MLPClassifier\n",
    "\n",
    "from imblearn.under_sampling import RandomUnderSampler \n",
    "from sklearn.feature_selection import SelectFromModel\n",
    "from yellowbrick.model_selection import RFECV\n",
    "import xgboost as xgb\n",
    "from xgboost import XGBClassifier\n",
    "from sklearn.model_selection import KFold\n",
    "\n",
    "# import warnings filter\n",
    "from warnings import simplefilter\n",
    "# ignore all future warnings\n",
    "simplefilter(action = 'ignore', category = FutureWarning)"
   ]
  },
  {
   "cell_type": "code",
   "execution_count": 2,
   "metadata": {},
   "outputs": [
    {
     "data": {
      "text/html": [
       "<div>\n",
       "<style scoped>\n",
       "    .dataframe tbody tr th:only-of-type {\n",
       "        vertical-align: middle;\n",
       "    }\n",
       "\n",
       "    .dataframe tbody tr th {\n",
       "        vertical-align: top;\n",
       "    }\n",
       "\n",
       "    .dataframe thead th {\n",
       "        text-align: right;\n",
       "    }\n",
       "</style>\n",
       "<table border=\"1\" class=\"dataframe\">\n",
       "  <thead>\n",
       "    <tr style=\"text-align: right;\">\n",
       "      <th></th>\n",
       "      <th>age</th>\n",
       "      <th>job</th>\n",
       "      <th>marital</th>\n",
       "      <th>education</th>\n",
       "      <th>default</th>\n",
       "      <th>balance</th>\n",
       "      <th>housing</th>\n",
       "      <th>loan</th>\n",
       "      <th>contact</th>\n",
       "      <th>day</th>\n",
       "      <th>month</th>\n",
       "      <th>duration</th>\n",
       "      <th>campaign</th>\n",
       "      <th>y</th>\n",
       "    </tr>\n",
       "  </thead>\n",
       "  <tbody>\n",
       "    <tr>\n",
       "      <td>0</td>\n",
       "      <td>58</td>\n",
       "      <td>management</td>\n",
       "      <td>married</td>\n",
       "      <td>tertiary</td>\n",
       "      <td>no</td>\n",
       "      <td>2143</td>\n",
       "      <td>yes</td>\n",
       "      <td>no</td>\n",
       "      <td>unknown</td>\n",
       "      <td>5</td>\n",
       "      <td>may</td>\n",
       "      <td>261</td>\n",
       "      <td>1</td>\n",
       "      <td>no</td>\n",
       "    </tr>\n",
       "    <tr>\n",
       "      <td>1</td>\n",
       "      <td>44</td>\n",
       "      <td>technician</td>\n",
       "      <td>single</td>\n",
       "      <td>secondary</td>\n",
       "      <td>no</td>\n",
       "      <td>29</td>\n",
       "      <td>yes</td>\n",
       "      <td>no</td>\n",
       "      <td>unknown</td>\n",
       "      <td>5</td>\n",
       "      <td>may</td>\n",
       "      <td>151</td>\n",
       "      <td>1</td>\n",
       "      <td>no</td>\n",
       "    </tr>\n",
       "    <tr>\n",
       "      <td>2</td>\n",
       "      <td>33</td>\n",
       "      <td>entrepreneur</td>\n",
       "      <td>married</td>\n",
       "      <td>secondary</td>\n",
       "      <td>no</td>\n",
       "      <td>2</td>\n",
       "      <td>yes</td>\n",
       "      <td>yes</td>\n",
       "      <td>unknown</td>\n",
       "      <td>5</td>\n",
       "      <td>may</td>\n",
       "      <td>76</td>\n",
       "      <td>1</td>\n",
       "      <td>no</td>\n",
       "    </tr>\n",
       "    <tr>\n",
       "      <td>3</td>\n",
       "      <td>47</td>\n",
       "      <td>blue-collar</td>\n",
       "      <td>married</td>\n",
       "      <td>unknown</td>\n",
       "      <td>no</td>\n",
       "      <td>1506</td>\n",
       "      <td>yes</td>\n",
       "      <td>no</td>\n",
       "      <td>unknown</td>\n",
       "      <td>5</td>\n",
       "      <td>may</td>\n",
       "      <td>92</td>\n",
       "      <td>1</td>\n",
       "      <td>no</td>\n",
       "    </tr>\n",
       "    <tr>\n",
       "      <td>4</td>\n",
       "      <td>33</td>\n",
       "      <td>unknown</td>\n",
       "      <td>single</td>\n",
       "      <td>unknown</td>\n",
       "      <td>no</td>\n",
       "      <td>1</td>\n",
       "      <td>no</td>\n",
       "      <td>no</td>\n",
       "      <td>unknown</td>\n",
       "      <td>5</td>\n",
       "      <td>may</td>\n",
       "      <td>198</td>\n",
       "      <td>1</td>\n",
       "      <td>no</td>\n",
       "    </tr>\n",
       "  </tbody>\n",
       "</table>\n",
       "</div>"
      ],
      "text/plain": [
       "   age           job  marital  education default  balance housing loan  \\\n",
       "0   58    management  married   tertiary      no     2143     yes   no   \n",
       "1   44    technician   single  secondary      no       29     yes   no   \n",
       "2   33  entrepreneur  married  secondary      no        2     yes  yes   \n",
       "3   47   blue-collar  married    unknown      no     1506     yes   no   \n",
       "4   33       unknown   single    unknown      no        1      no   no   \n",
       "\n",
       "   contact  day month  duration  campaign   y  \n",
       "0  unknown    5   may       261         1  no  \n",
       "1  unknown    5   may       151         1  no  \n",
       "2  unknown    5   may        76         1  no  \n",
       "3  unknown    5   may        92         1  no  \n",
       "4  unknown    5   may       198         1  no  "
      ]
     },
     "execution_count": 2,
     "metadata": {},
     "output_type": "execute_result"
    }
   ],
   "source": [
    "#load dataset \n",
    "td = pd.read_csv('term-deposit-marketing-2020.csv', header = 0)\n",
    "td.head()"
   ]
  },
  {
   "cell_type": "code",
   "execution_count": 3,
   "metadata": {},
   "outputs": [
    {
     "name": "stdout",
     "output_type": "stream",
     "text": [
      "<class 'pandas.core.frame.DataFrame'>\n",
      "RangeIndex: 40000 entries, 0 to 39999\n",
      "Data columns (total 14 columns):\n",
      "age          40000 non-null int64\n",
      "job          40000 non-null object\n",
      "marital      40000 non-null object\n",
      "education    40000 non-null object\n",
      "default      40000 non-null object\n",
      "balance      40000 non-null int64\n",
      "housing      40000 non-null object\n",
      "loan         40000 non-null object\n",
      "contact      40000 non-null object\n",
      "day          40000 non-null int64\n",
      "month        40000 non-null object\n",
      "duration     40000 non-null int64\n",
      "campaign     40000 non-null int64\n",
      "y            40000 non-null object\n",
      "dtypes: int64(5), object(9)\n",
      "memory usage: 4.3+ MB\n"
     ]
    }
   ],
   "source": [
    "td.info()"
   ]
  },
  {
   "cell_type": "code",
   "execution_count": 4,
   "metadata": {},
   "outputs": [
    {
     "data": {
      "text/plain": [
       "age          0\n",
       "job          0\n",
       "marital      0\n",
       "education    0\n",
       "default      0\n",
       "balance      0\n",
       "housing      0\n",
       "loan         0\n",
       "contact      0\n",
       "day          0\n",
       "month        0\n",
       "duration     0\n",
       "campaign     0\n",
       "y            0\n",
       "dtype: int64"
      ]
     },
     "execution_count": 4,
     "metadata": {},
     "output_type": "execute_result"
    }
   ],
   "source": [
    "# lets see if there are any null values \n",
    "td.isnull().sum()"
   ]
  },
  {
   "cell_type": "markdown",
   "metadata": {},
   "source": [
    "Fortunatlly there are no missing values. "
   ]
  },
  {
   "cell_type": "code",
   "execution_count": 5,
   "metadata": {},
   "outputs": [
    {
     "data": {
      "image/png": "[encoded data removed]",
      "text/plain": [
       "<Figure size 720x432 with 2 Axes>"
      ]
     },
     "metadata": {
      "needs_background": "light"
     },
     "output_type": "display_data"
    }
   ],
   "source": [
    "# Set up  matplotlib figure\n",
    "f, ax = plt.subplots(figsize=(10, 6))\n",
    "\n",
    "ax = sns.countplot(data = td, x = 'education', palette='husl', hue='y')\n",
    "ncount = len(td)\n",
    "ax2 = ax.twinx()\n",
    "ax2.yaxis.tick_left()\n",
    "ax.yaxis.tick_right()\n",
    "ax.yaxis.set_label_position('right')\n",
    "ax2.yaxis.set_label_position('left')\n",
    "ax2.set_ylabel('Frequency [%]')\n",
    "ax.set_ylabel('count')\n",
    "\n",
    "ax.set_xticklabels(ax.get_xticklabels(),rotation=45)\n",
    "\n",
    "for p in ax.patches:\n",
    "    x = p.get_bbox().get_points()[:,0]\n",
    "    y = p.get_bbox().get_points()[1,1]\n",
    "    ax.annotate('{:.1f}%'.format(100.*y/ncount), (x.mean(), y), \n",
    "            ha = 'center', va = 'bottom') # set the alignment of the text\n",
    "\n",
    "# Use a LinearLocator to ensure the correct number of ticks\n",
    "ax.yaxis.set_major_locator(ticker.LinearLocator(11))\n",
    "\n",
    "# Fix the frequency range to 0-100\n",
    "ax2.set_ylim(0,100)\n",
    "ax.set_ylim(0,ncount)\n",
    "ax.set_title('Client Education')\n",
    "\n",
    "# And use a MultipleLocator to ensure a tick spacing of 20\n",
    "ax2.yaxis.set_major_locator(ticker.MultipleLocator(20))\n",
    "\n",
    "# Need to turn the grid on ax2 off, otherwise the gridlines end up on top of the bars\n",
    "ax2.grid(None)\n"
   ]
  },
  {
   "cell_type": "code",
   "execution_count": 6,
   "metadata": {},
   "outputs": [
    {
     "data": {
      "image/png": "[encoded data removed]",
      "text/plain": [
       "<Figure size 792x432 with 1 Axes>"
      ]
     },
     "metadata": {
      "needs_background": "light"
     },
     "output_type": "display_data"
    }
   ],
   "source": [
    "# check if there is any trend with last contact duration\n",
    "subscribed = td.duration.loc[td.y == 'yes']\n",
    "not_subscribed = td.duration.loc[td.y == 'no']\n",
    "\n",
    "plt.figure(figsize = (11, 6))\n",
    "_ = plt.hist(subscribed, bins = 30, alpha = 0.5, label='Client Subscribed')\n",
    "_ = plt.hist(not_subscribed, bins=30, alpha=0.5, label='Client did not Subscribed')\n",
    "_ = plt.xlabel('Last contact duration, in seconds')\n",
    "_ = plt.ylabel('Frequency')\n",
    "_ = plt.legend()\n"
   ]
  },
  {
   "cell_type": "code",
   "execution_count": 7,
   "metadata": {},
   "outputs": [
    {
     "data": {
      "text/html": [
       "<div>\n",
       "<style scoped>\n",
       "    .dataframe tbody tr th:only-of-type {\n",
       "        vertical-align: middle;\n",
       "    }\n",
       "\n",
       "    .dataframe tbody tr th {\n",
       "        vertical-align: top;\n",
       "    }\n",
       "\n",
       "    .dataframe thead th {\n",
       "        text-align: right;\n",
       "    }\n",
       "</style>\n",
       "<table border=\"1\" class=\"dataframe\">\n",
       "  <thead>\n",
       "    <tr style=\"text-align: right;\">\n",
       "      <th></th>\n",
       "      <th>age</th>\n",
       "      <th>balance</th>\n",
       "      <th>day</th>\n",
       "      <th>duration</th>\n",
       "      <th>campaign</th>\n",
       "    </tr>\n",
       "  </thead>\n",
       "  <tbody>\n",
       "    <tr>\n",
       "      <td>count</td>\n",
       "      <td>40000.00</td>\n",
       "      <td>40000.00</td>\n",
       "      <td>40000.00</td>\n",
       "      <td>40000.00</td>\n",
       "      <td>40000.00</td>\n",
       "    </tr>\n",
       "    <tr>\n",
       "      <td>mean</td>\n",
       "      <td>40.54</td>\n",
       "      <td>1274.28</td>\n",
       "      <td>16.02</td>\n",
       "      <td>254.82</td>\n",
       "      <td>2.88</td>\n",
       "    </tr>\n",
       "    <tr>\n",
       "      <td>std</td>\n",
       "      <td>9.64</td>\n",
       "      <td>2903.77</td>\n",
       "      <td>8.28</td>\n",
       "      <td>259.37</td>\n",
       "      <td>3.24</td>\n",
       "    </tr>\n",
       "    <tr>\n",
       "      <td>min</td>\n",
       "      <td>19.00</td>\n",
       "      <td>-8019.00</td>\n",
       "      <td>1.00</td>\n",
       "      <td>0.00</td>\n",
       "      <td>1.00</td>\n",
       "    </tr>\n",
       "    <tr>\n",
       "      <td>25%</td>\n",
       "      <td>33.00</td>\n",
       "      <td>54.00</td>\n",
       "      <td>8.00</td>\n",
       "      <td>100.00</td>\n",
       "      <td>1.00</td>\n",
       "    </tr>\n",
       "    <tr>\n",
       "      <td>50%</td>\n",
       "      <td>39.00</td>\n",
       "      <td>407.00</td>\n",
       "      <td>17.00</td>\n",
       "      <td>175.00</td>\n",
       "      <td>2.00</td>\n",
       "    </tr>\n",
       "    <tr>\n",
       "      <td>75%</td>\n",
       "      <td>48.00</td>\n",
       "      <td>1319.00</td>\n",
       "      <td>21.00</td>\n",
       "      <td>313.00</td>\n",
       "      <td>3.00</td>\n",
       "    </tr>\n",
       "    <tr>\n",
       "      <td>max</td>\n",
       "      <td>95.00</td>\n",
       "      <td>102127.00</td>\n",
       "      <td>31.00</td>\n",
       "      <td>4918.00</td>\n",
       "      <td>63.00</td>\n",
       "    </tr>\n",
       "  </tbody>\n",
       "</table>\n",
       "</div>"
      ],
      "text/plain": [
       "           age   balance      day  duration  campaign\n",
       "count 40000.00  40000.00 40000.00  40000.00  40000.00\n",
       "mean     40.54   1274.28    16.02    254.82      2.88\n",
       "std       9.64   2903.77     8.28    259.37      3.24\n",
       "min      19.00  -8019.00     1.00      0.00      1.00\n",
       "25%      33.00     54.00     8.00    100.00      1.00\n",
       "50%      39.00    407.00    17.00    175.00      2.00\n",
       "75%      48.00   1319.00    21.00    313.00      3.00\n",
       "max      95.00 102127.00    31.00   4918.00     63.00"
      ]
     },
     "execution_count": 7,
     "metadata": {},
     "output_type": "execute_result"
    }
   ],
   "source": [
    "# It looks like feedback from custmers (features) is on 1-5 scale lets check\n",
    "td.describe()"
   ]
  },
  {
   "cell_type": "code",
   "execution_count": 8,
   "metadata": {},
   "outputs": [
    {
     "data": {
      "text/html": [
       "<div>\n",
       "<style scoped>\n",
       "    .dataframe tbody tr th:only-of-type {\n",
       "        vertical-align: middle;\n",
       "    }\n",
       "\n",
       "    .dataframe tbody tr th {\n",
       "        vertical-align: top;\n",
       "    }\n",
       "\n",
       "    .dataframe thead th {\n",
       "        text-align: right;\n",
       "    }\n",
       "</style>\n",
       "<table border=\"1\" class=\"dataframe\">\n",
       "  <thead>\n",
       "    <tr style=\"text-align: right;\">\n",
       "      <th></th>\n",
       "      <th>age</th>\n",
       "      <th>job</th>\n",
       "      <th>marital</th>\n",
       "      <th>education</th>\n",
       "      <th>default</th>\n",
       "      <th>balance</th>\n",
       "      <th>housing</th>\n",
       "      <th>loan</th>\n",
       "      <th>contact</th>\n",
       "      <th>day</th>\n",
       "      <th>month</th>\n",
       "      <th>duration</th>\n",
       "      <th>campaign</th>\n",
       "      <th>y</th>\n",
       "    </tr>\n",
       "  </thead>\n",
       "  <tbody>\n",
       "    <tr>\n",
       "      <td>0</td>\n",
       "      <td>58</td>\n",
       "      <td>management</td>\n",
       "      <td>married</td>\n",
       "      <td>tertiary</td>\n",
       "      <td>0</td>\n",
       "      <td>2143</td>\n",
       "      <td>1</td>\n",
       "      <td>0</td>\n",
       "      <td>unknown</td>\n",
       "      <td>5</td>\n",
       "      <td>may</td>\n",
       "      <td>261</td>\n",
       "      <td>1</td>\n",
       "      <td>0</td>\n",
       "    </tr>\n",
       "    <tr>\n",
       "      <td>1</td>\n",
       "      <td>44</td>\n",
       "      <td>technician</td>\n",
       "      <td>single</td>\n",
       "      <td>secondary</td>\n",
       "      <td>0</td>\n",
       "      <td>29</td>\n",
       "      <td>1</td>\n",
       "      <td>0</td>\n",
       "      <td>unknown</td>\n",
       "      <td>5</td>\n",
       "      <td>may</td>\n",
       "      <td>151</td>\n",
       "      <td>1</td>\n",
       "      <td>0</td>\n",
       "    </tr>\n",
       "    <tr>\n",
       "      <td>2</td>\n",
       "      <td>33</td>\n",
       "      <td>entrepreneur</td>\n",
       "      <td>married</td>\n",
       "      <td>secondary</td>\n",
       "      <td>0</td>\n",
       "      <td>2</td>\n",
       "      <td>1</td>\n",
       "      <td>1</td>\n",
       "      <td>unknown</td>\n",
       "      <td>5</td>\n",
       "      <td>may</td>\n",
       "      <td>76</td>\n",
       "      <td>1</td>\n",
       "      <td>0</td>\n",
       "    </tr>\n",
       "    <tr>\n",
       "      <td>3</td>\n",
       "      <td>47</td>\n",
       "      <td>blue-collar</td>\n",
       "      <td>married</td>\n",
       "      <td>unknown</td>\n",
       "      <td>0</td>\n",
       "      <td>1506</td>\n",
       "      <td>1</td>\n",
       "      <td>0</td>\n",
       "      <td>unknown</td>\n",
       "      <td>5</td>\n",
       "      <td>may</td>\n",
       "      <td>92</td>\n",
       "      <td>1</td>\n",
       "      <td>0</td>\n",
       "    </tr>\n",
       "    <tr>\n",
       "      <td>4</td>\n",
       "      <td>33</td>\n",
       "      <td>unknown</td>\n",
       "      <td>single</td>\n",
       "      <td>unknown</td>\n",
       "      <td>0</td>\n",
       "      <td>1</td>\n",
       "      <td>0</td>\n",
       "      <td>0</td>\n",
       "      <td>unknown</td>\n",
       "      <td>5</td>\n",
       "      <td>may</td>\n",
       "      <td>198</td>\n",
       "      <td>1</td>\n",
       "      <td>0</td>\n",
       "    </tr>\n",
       "    <tr>\n",
       "      <td>...</td>\n",
       "      <td>...</td>\n",
       "      <td>...</td>\n",
       "      <td>...</td>\n",
       "      <td>...</td>\n",
       "      <td>...</td>\n",
       "      <td>...</td>\n",
       "      <td>...</td>\n",
       "      <td>...</td>\n",
       "      <td>...</td>\n",
       "      <td>...</td>\n",
       "      <td>...</td>\n",
       "      <td>...</td>\n",
       "      <td>...</td>\n",
       "      <td>...</td>\n",
       "    </tr>\n",
       "    <tr>\n",
       "      <td>39995</td>\n",
       "      <td>53</td>\n",
       "      <td>technician</td>\n",
       "      <td>married</td>\n",
       "      <td>tertiary</td>\n",
       "      <td>0</td>\n",
       "      <td>395</td>\n",
       "      <td>0</td>\n",
       "      <td>0</td>\n",
       "      <td>cellular</td>\n",
       "      <td>3</td>\n",
       "      <td>jun</td>\n",
       "      <td>107</td>\n",
       "      <td>1</td>\n",
       "      <td>0</td>\n",
       "    </tr>\n",
       "    <tr>\n",
       "      <td>39996</td>\n",
       "      <td>30</td>\n",
       "      <td>management</td>\n",
       "      <td>single</td>\n",
       "      <td>tertiary</td>\n",
       "      <td>0</td>\n",
       "      <td>3340</td>\n",
       "      <td>0</td>\n",
       "      <td>0</td>\n",
       "      <td>cellular</td>\n",
       "      <td>3</td>\n",
       "      <td>jun</td>\n",
       "      <td>238</td>\n",
       "      <td>3</td>\n",
       "      <td>1</td>\n",
       "    </tr>\n",
       "    <tr>\n",
       "      <td>39997</td>\n",
       "      <td>54</td>\n",
       "      <td>admin</td>\n",
       "      <td>divorced</td>\n",
       "      <td>secondary</td>\n",
       "      <td>0</td>\n",
       "      <td>200</td>\n",
       "      <td>0</td>\n",
       "      <td>0</td>\n",
       "      <td>cellular</td>\n",
       "      <td>3</td>\n",
       "      <td>jun</td>\n",
       "      <td>170</td>\n",
       "      <td>1</td>\n",
       "      <td>1</td>\n",
       "    </tr>\n",
       "    <tr>\n",
       "      <td>39998</td>\n",
       "      <td>34</td>\n",
       "      <td>management</td>\n",
       "      <td>married</td>\n",
       "      <td>tertiary</td>\n",
       "      <td>0</td>\n",
       "      <td>1047</td>\n",
       "      <td>0</td>\n",
       "      <td>0</td>\n",
       "      <td>cellular</td>\n",
       "      <td>3</td>\n",
       "      <td>jun</td>\n",
       "      <td>342</td>\n",
       "      <td>1</td>\n",
       "      <td>0</td>\n",
       "    </tr>\n",
       "    <tr>\n",
       "      <td>39999</td>\n",
       "      <td>38</td>\n",
       "      <td>technician</td>\n",
       "      <td>married</td>\n",
       "      <td>secondary</td>\n",
       "      <td>0</td>\n",
       "      <td>1442</td>\n",
       "      <td>1</td>\n",
       "      <td>0</td>\n",
       "      <td>cellular</td>\n",
       "      <td>3</td>\n",
       "      <td>jun</td>\n",
       "      <td>113</td>\n",
       "      <td>1</td>\n",
       "      <td>0</td>\n",
       "    </tr>\n",
       "  </tbody>\n",
       "</table>\n",
       "<p>40000 rows × 14 columns</p>\n",
       "</div>"
      ],
      "text/plain": [
       "       age           job   marital  education  default  balance  housing  \\\n",
       "0       58    management   married   tertiary        0     2143        1   \n",
       "1       44    technician    single  secondary        0       29        1   \n",
       "2       33  entrepreneur   married  secondary        0        2        1   \n",
       "3       47   blue-collar   married    unknown        0     1506        1   \n",
       "4       33       unknown    single    unknown        0        1        0   \n",
       "...    ...           ...       ...        ...      ...      ...      ...   \n",
       "39995   53    technician   married   tertiary        0      395        0   \n",
       "39996   30    management    single   tertiary        0     3340        0   \n",
       "39997   54         admin  divorced  secondary        0      200        0   \n",
       "39998   34    management   married   tertiary        0     1047        0   \n",
       "39999   38    technician   married  secondary        0     1442        1   \n",
       "\n",
       "       loan   contact  day month  duration  campaign  y  \n",
       "0         0   unknown    5   may       261         1  0  \n",
       "1         0   unknown    5   may       151         1  0  \n",
       "2         1   unknown    5   may        76         1  0  \n",
       "3         0   unknown    5   may        92         1  0  \n",
       "4         0   unknown    5   may       198         1  0  \n",
       "...     ...       ...  ...   ...       ...       ... ..  \n",
       "39995     0  cellular    3   jun       107         1  0  \n",
       "39996     0  cellular    3   jun       238         3  1  \n",
       "39997     0  cellular    3   jun       170         1  1  \n",
       "39998     0  cellular    3   jun       342         1  0  \n",
       "39999     0  cellular    3   jun       113         1  0  \n",
       "\n",
       "[40000 rows x 14 columns]"
      ]
     },
     "execution_count": 8,
     "metadata": {},
     "output_type": "execute_result"
    }
   ],
   "source": [
    "'''Since the label of the data-set are given in terms of ‘yes’ and ‘no’, it’s necessary to replace them with numbers,\n",
    "possibly with 1 and 0 respectively, so that they can be used in modelling of the data. In the first step we will convert \n",
    "the output labels of the data-set from binary strings of yes/no to integers 1/0.'''\n",
    "\n",
    "td['y'] = (td['y'] == 'yes').astype(int)  # changing yes to 1 and no to 0\n",
    "td['default'] = (td['default'] == 'yes').astype(int)  # changing yes to 1 and no to 0\n",
    "td['loan'] = (td['loan'] == 'yes').astype(int)  # changing yes to 1 and no to 0\n",
    "td['housing'] = (td['housing'] == 'yes').astype(int)  # changing yes to 1 and no to 0\n",
    "\n",
    "td"
   ]
  },
  {
   "cell_type": "code",
   "execution_count": 9,
   "metadata": {},
   "outputs": [
    {
     "data": {
      "text/html": [
       "<div>\n",
       "<style scoped>\n",
       "    .dataframe tbody tr th:only-of-type {\n",
       "        vertical-align: middle;\n",
       "    }\n",
       "\n",
       "    .dataframe tbody tr th {\n",
       "        vertical-align: top;\n",
       "    }\n",
       "\n",
       "    .dataframe thead th {\n",
       "        text-align: right;\n",
       "    }\n",
       "</style>\n",
       "<table border=\"1\" class=\"dataframe\">\n",
       "  <thead>\n",
       "    <tr style=\"text-align: right;\">\n",
       "      <th></th>\n",
       "      <th>age</th>\n",
       "      <th>default</th>\n",
       "      <th>balance</th>\n",
       "      <th>housing</th>\n",
       "      <th>loan</th>\n",
       "      <th>day</th>\n",
       "      <th>duration</th>\n",
       "      <th>campaign</th>\n",
       "      <th>y</th>\n",
       "      <th>marital_divorced</th>\n",
       "      <th>...</th>\n",
       "      <th>job_entrepreneur</th>\n",
       "      <th>job_housemaid</th>\n",
       "      <th>job_management</th>\n",
       "      <th>job_retired</th>\n",
       "      <th>job_self-employed</th>\n",
       "      <th>job_services</th>\n",
       "      <th>job_student</th>\n",
       "      <th>job_technician</th>\n",
       "      <th>job_unemployed</th>\n",
       "      <th>job_unknown</th>\n",
       "    </tr>\n",
       "  </thead>\n",
       "  <tbody>\n",
       "    <tr>\n",
       "      <td>0</td>\n",
       "      <td>58</td>\n",
       "      <td>0</td>\n",
       "      <td>2143</td>\n",
       "      <td>1</td>\n",
       "      <td>0</td>\n",
       "      <td>5</td>\n",
       "      <td>261</td>\n",
       "      <td>1</td>\n",
       "      <td>0</td>\n",
       "      <td>0</td>\n",
       "      <td>...</td>\n",
       "      <td>0</td>\n",
       "      <td>0</td>\n",
       "      <td>1</td>\n",
       "      <td>0</td>\n",
       "      <td>0</td>\n",
       "      <td>0</td>\n",
       "      <td>0</td>\n",
       "      <td>0</td>\n",
       "      <td>0</td>\n",
       "      <td>0</td>\n",
       "    </tr>\n",
       "    <tr>\n",
       "      <td>1</td>\n",
       "      <td>44</td>\n",
       "      <td>0</td>\n",
       "      <td>29</td>\n",
       "      <td>1</td>\n",
       "      <td>0</td>\n",
       "      <td>5</td>\n",
       "      <td>151</td>\n",
       "      <td>1</td>\n",
       "      <td>0</td>\n",
       "      <td>0</td>\n",
       "      <td>...</td>\n",
       "      <td>0</td>\n",
       "      <td>0</td>\n",
       "      <td>0</td>\n",
       "      <td>0</td>\n",
       "      <td>0</td>\n",
       "      <td>0</td>\n",
       "      <td>0</td>\n",
       "      <td>1</td>\n",
       "      <td>0</td>\n",
       "      <td>0</td>\n",
       "    </tr>\n",
       "    <tr>\n",
       "      <td>2</td>\n",
       "      <td>33</td>\n",
       "      <td>0</td>\n",
       "      <td>2</td>\n",
       "      <td>1</td>\n",
       "      <td>1</td>\n",
       "      <td>5</td>\n",
       "      <td>76</td>\n",
       "      <td>1</td>\n",
       "      <td>0</td>\n",
       "      <td>0</td>\n",
       "      <td>...</td>\n",
       "      <td>1</td>\n",
       "      <td>0</td>\n",
       "      <td>0</td>\n",
       "      <td>0</td>\n",
       "      <td>0</td>\n",
       "      <td>0</td>\n",
       "      <td>0</td>\n",
       "      <td>0</td>\n",
       "      <td>0</td>\n",
       "      <td>0</td>\n",
       "    </tr>\n",
       "    <tr>\n",
       "      <td>3</td>\n",
       "      <td>47</td>\n",
       "      <td>0</td>\n",
       "      <td>1506</td>\n",
       "      <td>1</td>\n",
       "      <td>0</td>\n",
       "      <td>5</td>\n",
       "      <td>92</td>\n",
       "      <td>1</td>\n",
       "      <td>0</td>\n",
       "      <td>0</td>\n",
       "      <td>...</td>\n",
       "      <td>0</td>\n",
       "      <td>0</td>\n",
       "      <td>0</td>\n",
       "      <td>0</td>\n",
       "      <td>0</td>\n",
       "      <td>0</td>\n",
       "      <td>0</td>\n",
       "      <td>0</td>\n",
       "      <td>0</td>\n",
       "      <td>0</td>\n",
       "    </tr>\n",
       "    <tr>\n",
       "      <td>4</td>\n",
       "      <td>33</td>\n",
       "      <td>0</td>\n",
       "      <td>1</td>\n",
       "      <td>0</td>\n",
       "      <td>0</td>\n",
       "      <td>5</td>\n",
       "      <td>198</td>\n",
       "      <td>1</td>\n",
       "      <td>0</td>\n",
       "      <td>0</td>\n",
       "      <td>...</td>\n",
       "      <td>0</td>\n",
       "      <td>0</td>\n",
       "      <td>0</td>\n",
       "      <td>0</td>\n",
       "      <td>0</td>\n",
       "      <td>0</td>\n",
       "      <td>0</td>\n",
       "      <td>0</td>\n",
       "      <td>0</td>\n",
       "      <td>1</td>\n",
       "    </tr>\n",
       "    <tr>\n",
       "      <td>...</td>\n",
       "      <td>...</td>\n",
       "      <td>...</td>\n",
       "      <td>...</td>\n",
       "      <td>...</td>\n",
       "      <td>...</td>\n",
       "      <td>...</td>\n",
       "      <td>...</td>\n",
       "      <td>...</td>\n",
       "      <td>...</td>\n",
       "      <td>...</td>\n",
       "      <td>...</td>\n",
       "      <td>...</td>\n",
       "      <td>...</td>\n",
       "      <td>...</td>\n",
       "      <td>...</td>\n",
       "      <td>...</td>\n",
       "      <td>...</td>\n",
       "      <td>...</td>\n",
       "      <td>...</td>\n",
       "      <td>...</td>\n",
       "      <td>...</td>\n",
       "    </tr>\n",
       "    <tr>\n",
       "      <td>39995</td>\n",
       "      <td>53</td>\n",
       "      <td>0</td>\n",
       "      <td>395</td>\n",
       "      <td>0</td>\n",
       "      <td>0</td>\n",
       "      <td>3</td>\n",
       "      <td>107</td>\n",
       "      <td>1</td>\n",
       "      <td>0</td>\n",
       "      <td>0</td>\n",
       "      <td>...</td>\n",
       "      <td>0</td>\n",
       "      <td>0</td>\n",
       "      <td>0</td>\n",
       "      <td>0</td>\n",
       "      <td>0</td>\n",
       "      <td>0</td>\n",
       "      <td>0</td>\n",
       "      <td>1</td>\n",
       "      <td>0</td>\n",
       "      <td>0</td>\n",
       "    </tr>\n",
       "    <tr>\n",
       "      <td>39996</td>\n",
       "      <td>30</td>\n",
       "      <td>0</td>\n",
       "      <td>3340</td>\n",
       "      <td>0</td>\n",
       "      <td>0</td>\n",
       "      <td>3</td>\n",
       "      <td>238</td>\n",
       "      <td>3</td>\n",
       "      <td>1</td>\n",
       "      <td>0</td>\n",
       "      <td>...</td>\n",
       "      <td>0</td>\n",
       "      <td>0</td>\n",
       "      <td>1</td>\n",
       "      <td>0</td>\n",
       "      <td>0</td>\n",
       "      <td>0</td>\n",
       "      <td>0</td>\n",
       "      <td>0</td>\n",
       "      <td>0</td>\n",
       "      <td>0</td>\n",
       "    </tr>\n",
       "    <tr>\n",
       "      <td>39997</td>\n",
       "      <td>54</td>\n",
       "      <td>0</td>\n",
       "      <td>200</td>\n",
       "      <td>0</td>\n",
       "      <td>0</td>\n",
       "      <td>3</td>\n",
       "      <td>170</td>\n",
       "      <td>1</td>\n",
       "      <td>1</td>\n",
       "      <td>1</td>\n",
       "      <td>...</td>\n",
       "      <td>0</td>\n",
       "      <td>0</td>\n",
       "      <td>0</td>\n",
       "      <td>0</td>\n",
       "      <td>0</td>\n",
       "      <td>0</td>\n",
       "      <td>0</td>\n",
       "      <td>0</td>\n",
       "      <td>0</td>\n",
       "      <td>0</td>\n",
       "    </tr>\n",
       "    <tr>\n",
       "      <td>39998</td>\n",
       "      <td>34</td>\n",
       "      <td>0</td>\n",
       "      <td>1047</td>\n",
       "      <td>0</td>\n",
       "      <td>0</td>\n",
       "      <td>3</td>\n",
       "      <td>342</td>\n",
       "      <td>1</td>\n",
       "      <td>0</td>\n",
       "      <td>0</td>\n",
       "      <td>...</td>\n",
       "      <td>0</td>\n",
       "      <td>0</td>\n",
       "      <td>1</td>\n",
       "      <td>0</td>\n",
       "      <td>0</td>\n",
       "      <td>0</td>\n",
       "      <td>0</td>\n",
       "      <td>0</td>\n",
       "      <td>0</td>\n",
       "      <td>0</td>\n",
       "    </tr>\n",
       "    <tr>\n",
       "      <td>39999</td>\n",
       "      <td>38</td>\n",
       "      <td>0</td>\n",
       "      <td>1442</td>\n",
       "      <td>1</td>\n",
       "      <td>0</td>\n",
       "      <td>3</td>\n",
       "      <td>113</td>\n",
       "      <td>1</td>\n",
       "      <td>0</td>\n",
       "      <td>0</td>\n",
       "      <td>...</td>\n",
       "      <td>0</td>\n",
       "      <td>0</td>\n",
       "      <td>0</td>\n",
       "      <td>0</td>\n",
       "      <td>0</td>\n",
       "      <td>0</td>\n",
       "      <td>0</td>\n",
       "      <td>1</td>\n",
       "      <td>0</td>\n",
       "      <td>0</td>\n",
       "    </tr>\n",
       "  </tbody>\n",
       "</table>\n",
       "<p>40000 rows × 42 columns</p>\n",
       "</div>"
      ],
      "text/plain": [
       "       age  default  balance  housing  loan  day  duration  campaign  y  \\\n",
       "0       58        0     2143        1     0    5       261         1  0   \n",
       "1       44        0       29        1     0    5       151         1  0   \n",
       "2       33        0        2        1     1    5        76         1  0   \n",
       "3       47        0     1506        1     0    5        92         1  0   \n",
       "4       33        0        1        0     0    5       198         1  0   \n",
       "...    ...      ...      ...      ...   ...  ...       ...       ... ..   \n",
       "39995   53        0      395        0     0    3       107         1  0   \n",
       "39996   30        0     3340        0     0    3       238         3  1   \n",
       "39997   54        0      200        0     0    3       170         1  1   \n",
       "39998   34        0     1047        0     0    3       342         1  0   \n",
       "39999   38        0     1442        1     0    3       113         1  0   \n",
       "\n",
       "       marital_divorced  ...  job_entrepreneur  job_housemaid  job_management  \\\n",
       "0                     0  ...                 0              0               1   \n",
       "1                     0  ...                 0              0               0   \n",
       "2                     0  ...                 1              0               0   \n",
       "3                     0  ...                 0              0               0   \n",
       "4                     0  ...                 0              0               0   \n",
       "...                 ...  ...               ...            ...             ...   \n",
       "39995                 0  ...                 0              0               0   \n",
       "39996                 0  ...                 0              0               1   \n",
       "39997                 1  ...                 0              0               0   \n",
       "39998                 0  ...                 0              0               1   \n",
       "39999                 0  ...                 0              0               0   \n",
       "\n",
       "       job_retired  job_self-employed  job_services  job_student  \\\n",
       "0                0                  0             0            0   \n",
       "1                0                  0             0            0   \n",
       "2                0                  0             0            0   \n",
       "3                0                  0             0            0   \n",
       "4                0                  0             0            0   \n",
       "...            ...                ...           ...          ...   \n",
       "39995            0                  0             0            0   \n",
       "39996            0                  0             0            0   \n",
       "39997            0                  0             0            0   \n",
       "39998            0                  0             0            0   \n",
       "39999            0                  0             0            0   \n",
       "\n",
       "       job_technician  job_unemployed  job_unknown  \n",
       "0                   0               0            0  \n",
       "1                   1               0            0  \n",
       "2                   0               0            0  \n",
       "3                   0               0            0  \n",
       "4                   0               0            1  \n",
       "...               ...             ...          ...  \n",
       "39995               1               0            0  \n",
       "39996               0               0            0  \n",
       "39997               0               0            0  \n",
       "39998               0               0            0  \n",
       "39999               1               0            0  \n",
       "\n",
       "[40000 rows x 42 columns]"
      ]
     },
     "execution_count": 9,
     "metadata": {},
     "output_type": "execute_result"
    }
   ],
   "source": [
    "# lets change all the features to binary class using get_dummies\n",
    "td = pd.get_dummies (td, columns = ['marital', 'education', 'contact', 'month','job'])\n",
    "td"
   ]
  },
  {
   "cell_type": "markdown",
   "metadata": {},
   "source": [
    "This graph shows, there is an outlier with the duration data. I will need to check using box plot. "
   ]
  },
  {
   "cell_type": "markdown",
   "metadata": {},
   "source": [
    "## Semih Notes\n",
    "\n",
    "+ Implement simple model\n",
    "+ Feature engineering \n",
    "+ Fixing the data (outliers, missing value etc)\n",
    "+ SHAP - interpretable machine learning \n",
    "+ building a complex model (as complex as it could overfit the data)."
   ]
  },
  {
   "cell_type": "code",
   "execution_count": 10,
   "metadata": {},
   "outputs": [
    {
     "name": "stdout",
     "output_type": "stream",
     "text": [
      "Dimensions of y before reshaping: (40000,)\n",
      "Dimensions of X before reshaping: (40000, 41)\n"
     ]
    }
   ],
   "source": [
    "# First implement simple model \n",
    "\n",
    "# Create arrays for features and target variable\n",
    "y = td['y'].values\n",
    "x = td.drop(['y'], axis=1)\n",
    "\n",
    "\n",
    "# Print the dimensions of X and y \n",
    "print(\"Dimensions of y before reshaping: {}\".format(y.shape))\n",
    "print(\"Dimensions of X before reshaping: {}\".format(x.shape))"
   ]
  },
  {
   "cell_type": "code",
   "execution_count": 11,
   "metadata": {},
   "outputs": [
    {
     "name": "stdout",
     "output_type": "stream",
     "text": [
      "[0 0 0 ... 1 0 0]\n"
     ]
    }
   ],
   "source": [
    "print (y)"
   ]
  },
  {
   "cell_type": "code",
   "execution_count": 12,
   "metadata": {},
   "outputs": [
    {
     "name": "stdout",
     "output_type": "stream",
     "text": [
      "       age  default  balance  housing  loan  day  duration  campaign  \\\n",
      "0       58        0     2143        1     0    5       261         1   \n",
      "1       44        0       29        1     0    5       151         1   \n",
      "2       33        0        2        1     1    5        76         1   \n",
      "3       47        0     1506        1     0    5        92         1   \n",
      "4       33        0        1        0     0    5       198         1   \n",
      "...    ...      ...      ...      ...   ...  ...       ...       ...   \n",
      "39995   53        0      395        0     0    3       107         1   \n",
      "39996   30        0     3340        0     0    3       238         3   \n",
      "39997   54        0      200        0     0    3       170         1   \n",
      "39998   34        0     1047        0     0    3       342         1   \n",
      "39999   38        0     1442        1     0    3       113         1   \n",
      "\n",
      "       marital_divorced  marital_married  ...  job_entrepreneur  \\\n",
      "0                     0                1  ...                 0   \n",
      "1                     0                0  ...                 0   \n",
      "2                     0                1  ...                 1   \n",
      "3                     0                1  ...                 0   \n",
      "4                     0                0  ...                 0   \n",
      "...                 ...              ...  ...               ...   \n",
      "39995                 0                1  ...                 0   \n",
      "39996                 0                0  ...                 0   \n",
      "39997                 1                0  ...                 0   \n",
      "39998                 0                1  ...                 0   \n",
      "39999                 0                1  ...                 0   \n",
      "\n",
      "       job_housemaid  job_management  job_retired  job_self-employed  \\\n",
      "0                  0               1            0                  0   \n",
      "1                  0               0            0                  0   \n",
      "2                  0               0            0                  0   \n",
      "3                  0               0            0                  0   \n",
      "4                  0               0            0                  0   \n",
      "...              ...             ...          ...                ...   \n",
      "39995              0               0            0                  0   \n",
      "39996              0               1            0                  0   \n",
      "39997              0               0            0                  0   \n",
      "39998              0               1            0                  0   \n",
      "39999              0               0            0                  0   \n",
      "\n",
      "       job_services  job_student  job_technician  job_unemployed  job_unknown  \n",
      "0                 0            0               0               0            0  \n",
      "1                 0            0               1               0            0  \n",
      "2                 0            0               0               0            0  \n",
      "3                 0            0               0               0            0  \n",
      "4                 0            0               0               0            1  \n",
      "...             ...          ...             ...             ...          ...  \n",
      "39995             0            0               1               0            0  \n",
      "39996             0            0               0               0            0  \n",
      "39997             0            0               0               0            0  \n",
      "39998             0            0               0               0            0  \n",
      "39999             0            0               1               0            0  \n",
      "\n",
      "[40000 rows x 41 columns]\n"
     ]
    }
   ],
   "source": [
    "print(x)"
   ]
  },
  {
   "cell_type": "code",
   "execution_count": 13,
   "metadata": {},
   "outputs": [
    {
     "name": "stdout",
     "output_type": "stream",
     "text": [
      "Training Accuracy: 0.93325\n",
      "Testing Accuracy: 0.928625\n"
     ]
    }
   ],
   "source": [
    "# Split the data into a training and test set.\n",
    "x_train, x_test, y_train, y_test = train_test_split(x, y,random_state = 5, test_size = 0.2)\n",
    "\n",
    "clf = LogisticRegression(solver='lbfgs')\n",
    "# Fit the model on the trainng data.\n",
    "clf.fit(x_train, y_train)\n",
    "\n",
    "# Print the accuracy\n",
    "print('Training Accuracy: {}'.format((accuracy_score(clf.predict(x_train), y_train))))\n",
    "print('Testing Accuracy: {}'.format((accuracy_score(clf.predict(x_test), y_test))))"
   ]
  },
  {
   "cell_type": "code",
   "execution_count": 14,
   "metadata": {},
   "outputs": [
    {
     "data": {
      "text/plain": [
       "(32000, 41)"
      ]
     },
     "execution_count": 14,
     "metadata": {},
     "output_type": "execute_result"
    }
   ],
   "source": [
    "x_train.shape"
   ]
  },
  {
   "cell_type": "code",
   "execution_count": 15,
   "metadata": {},
   "outputs": [
    {
     "data": {
      "text/plain": [
       "(32000,)"
      ]
     },
     "execution_count": 15,
     "metadata": {},
     "output_type": "execute_result"
    }
   ],
   "source": [
    "y_train.shape"
   ]
  },
  {
   "cell_type": "code",
   "execution_count": 16,
   "metadata": {},
   "outputs": [
    {
     "data": {
      "text/plain": [
       "0    37104\n",
       "1     2896\n",
       "Name: y, dtype: int64"
      ]
     },
     "execution_count": 16,
     "metadata": {},
     "output_type": "execute_result"
    }
   ],
   "source": [
    "td['y'].value_counts()"
   ]
  },
  {
   "cell_type": "code",
   "execution_count": 17,
   "metadata": {},
   "outputs": [
    {
     "name": "stdout",
     "output_type": "stream",
     "text": [
      "[[7291   83]\n",
      " [ 488  138]]\n",
      "              precision    recall  f1-score   support\n",
      "\n",
      "           0       0.94      0.99      0.96      7374\n",
      "           1       0.62      0.22      0.33       626\n",
      "\n",
      "    accuracy                           0.93      8000\n",
      "   macro avg       0.78      0.60      0.64      8000\n",
      "weighted avg       0.91      0.93      0.91      8000\n",
      "\n"
     ]
    }
   ],
   "source": [
    "# Generate the confusion matrix and classification report\n",
    "\n",
    "ypred = clf.predict(x_test)\n",
    "# Generate the confusion matrix and classification report\n",
    "print(confusion_matrix(y_test, ypred))\n",
    "print(classification_report(y_test, ypred))"
   ]
  },
  {
   "cell_type": "markdown",
   "metadata": {},
   "source": [
    "## additional notes: \n",
    "- oversampling/ undersampling \n",
    "- find out how the data would do if you undersample the data \n",
    "- use the libarary imblearn (random undersampler) \n",
    "- feature enginering - use tree-based algorithm to see what particular features would add value to solve the problems (feature importance and coefficients). \n",
    "- measure the absolute effect feature. "
   ]
  },
  {
   "cell_type": "code",
   "execution_count": 18,
   "metadata": {},
   "outputs": [
    {
     "name": "stdout",
     "output_type": "stream",
     "text": [
      "Counter({0: 2896, 1: 2896})\n"
     ]
    }
   ],
   "source": [
    "# First lets try how the model performs if we can randomly undersmaple the Class 0, to blance the data. \n",
    "\n",
    "rus = RandomUnderSampler(sampling_strategy = 'majority')\n",
    "x_res, y_res = rus.fit_resample (x, y)\n",
    "# summarize class distribution\n",
    "\n",
    "print(Counter(y_res))"
   ]
  },
  {
   "cell_type": "raw",
   "metadata": {},
   "source": [
    "We can see that that majority class is undersampled to have the same number of examples as the minority class. Judgment and empirical results will have to be used as to whether a training dataset with just 2896 would be sufficient to train a model."
   ]
  },
  {
   "cell_type": "code",
   "execution_count": 19,
   "metadata": {},
   "outputs": [
    {
     "name": "stdout",
     "output_type": "stream",
     "text": [
      "[[504  76]\n",
      " [143 436]]\n",
      "              precision    recall  f1-score   support\n",
      "\n",
      "           0       0.78      0.87      0.82       580\n",
      "           1       0.85      0.75      0.80       579\n",
      "\n",
      "    accuracy                           0.81      1159\n",
      "   macro avg       0.82      0.81      0.81      1159\n",
      "weighted avg       0.82      0.81      0.81      1159\n",
      "\n"
     ]
    }
   ],
   "source": [
    "# Split the data into a training and test set.\n",
    "x_res_train, x_res_test, y_res_train, y_res_test = train_test_split(x_res, y_res,random_state = 5, test_size = 0.2)\n",
    "\n",
    "# Fit the model on the trainng data.\n",
    "clf.fit(x_res_train, y_res_train)\n",
    "y_res_pred = clf.predict(x_res_test)\n",
    "# Generate the confusion matrix and classification report\n",
    "print(confusion_matrix(y_res_test, y_res_pred))\n",
    "print(classification_report(y_res_test, y_res_pred))"
   ]
  },
  {
   "cell_type": "code",
   "execution_count": 20,
   "metadata": {},
   "outputs": [
    {
     "data": {
      "text/plain": [
       "(4633, 41)"
      ]
     },
     "execution_count": 20,
     "metadata": {},
     "output_type": "execute_result"
    }
   ],
   "source": [
    "x_res_train.shape"
   ]
  },
  {
   "cell_type": "code",
   "execution_count": 21,
   "metadata": {},
   "outputs": [
    {
     "name": "stdout",
     "output_type": "stream",
     "text": [
      "Counter({0: 37104, 1: 37104})\n"
     ]
    }
   ],
   "source": [
    "from imblearn.over_sampling import RandomOverSampler\n",
    "# lets try how the model performs if we can randomly oversmaple the Class 1, to blance the data. \n",
    "\n",
    "ros = RandomOverSampler(sampling_strategy = 'minority')\n",
    "x_ros, y_ros = ros.fit_resample (x, y)\n",
    "# summarize class distribution\n",
    "\n",
    "print(Counter(y_ros)) \n"
   ]
  },
  {
   "cell_type": "code",
   "execution_count": 22,
   "metadata": {},
   "outputs": [
    {
     "name": "stdout",
     "output_type": "stream",
     "text": [
      "[[6263 1213]\n",
      " [1431 5935]]\n",
      "              precision    recall  f1-score   support\n",
      "\n",
      "           0       0.81      0.84      0.83      7476\n",
      "           1       0.83      0.81      0.82      7366\n",
      "\n",
      "    accuracy                           0.82     14842\n",
      "   macro avg       0.82      0.82      0.82     14842\n",
      "weighted avg       0.82      0.82      0.82     14842\n",
      "\n"
     ]
    }
   ],
   "source": [
    "# Split the data into a training and test set.\n",
    "x_ros_train, x_ros_test, y_ros_train, y_ros_test = train_test_split(x_ros, y_ros,random_state = 5, test_size = 0.2)\n",
    "\n",
    "# Fit the model on the trainng data.\n",
    "clf.fit(x_ros_train, y_ros_train)\n",
    "y_ros_pred = clf.predict(x_ros_test)\n",
    "# Generate the confusion matrix and classification report\n",
    "print(confusion_matrix(y_ros_test, y_ros_pred))\n",
    "print(classification_report(y_ros_test, y_ros_pred))"
   ]
  },
  {
   "cell_type": "raw",
   "metadata": {},
   "source": [
    "undersample vs oversample \n",
    "- Helps during deployment, could help train your model much faster (with smaller data). Less time, less resource usage, less computational cost.\n",
    "-"
   ]
  },
  {
   "cell_type": "markdown",
   "metadata": {},
   "source": [
    "### Feature Engineering \n",
    "Use tree-based algorithm to see what particular features would add value to solve the problems (feature importance and coefficients). How does Random forest select features?\n",
    "Random forests consist of 4 –12 hundred decision trees, each of them built over a random extraction of the observations from the dataset and a random extraction of the features. Not every tree sees all the features or all the observations, and this guarantees that the trees are de-correlated and therefore less prone to over-fitting. Each tree is also a sequence of yes-no questions based on a single or combination of features. At each node (this is at each question), the three divides the dataset into 2 buckets, each of them hosting observations that are more similar among themselves and different from the ones in the other bucket. Therefore, the importance of each feature is derived from how “pure” each of the buckets is."
   ]
  },
  {
   "cell_type": "code",
   "execution_count": 23,
   "metadata": {},
   "outputs": [
    {
     "data": {
      "text/plain": [
       "array([ True, False,  True, False, False,  True,  True,  True, False,\n",
       "       False, False, False, False, False, False, False, False, False,\n",
       "       False, False, False, False, False, False, False, False, False,\n",
       "       False, False, False, False, False, False, False, False, False,\n",
       "       False, False, False, False, False])"
      ]
     },
     "execution_count": 23,
     "metadata": {},
     "output_type": "execute_result"
    }
   ],
   "source": [
    "# feature enginering \n",
    "\n",
    "x_train, x_test, y_train, y_test = train_test_split(x,y, random_state = 42, test_size = 0.3)\n",
    "fselect = SelectFromModel (RandomForestClassifier(n_estimators = 100)) # model fitting and feature selection in one line code\n",
    "fselect.fit(x_train, y_train) # in feature selection procedures, its a good practice to select the features by examining only the training set to avoid overfitting. \n",
    "\n",
    "# To see which features are important we can sue get_support method on the fitted model\n",
    "\n",
    "fselect.get_support()\n",
    "\n",
    "\n",
    "\n"
   ]
  },
  {
   "cell_type": "code",
   "execution_count": 24,
   "metadata": {},
   "outputs": [
    {
     "data": {
      "text/plain": [
       "array([0, 2, 5, 6, 7], dtype=int64)"
      ]
     },
     "execution_count": 24,
     "metadata": {},
     "output_type": "execute_result"
    }
   ],
   "source": [
    "fselect.get_support(indices = True)"
   ]
  },
  {
   "cell_type": "code",
   "execution_count": 25,
   "metadata": {},
   "outputs": [
    {
     "data": {
      "text/plain": [
       "5"
      ]
     },
     "execution_count": 25,
     "metadata": {},
     "output_type": "execute_result"
    }
   ],
   "source": [
    "# Make a list and count the selected features\n",
    "\n",
    "x_train = pd.DataFrame(x_train)\n",
    "selected_f = x_train.columns[(fselect.get_support())]\n",
    "len(selected_f)\n",
    "\n"
   ]
  },
  {
   "cell_type": "code",
   "execution_count": 26,
   "metadata": {},
   "outputs": [
    {
     "name": "stdout",
     "output_type": "stream",
     "text": [
      "Index(['age', 'balance', 'day', 'duration', 'campaign'], dtype='object')\n"
     ]
    }
   ],
   "source": [
    "# Get the name of the selected features \n",
    "print(selected_f)"
   ]
  },
  {
   "cell_type": "code",
   "execution_count": 27,
   "metadata": {},
   "outputs": [
    {
     "data": {
      "text/plain": [
       "0.02439024390243903"
      ]
     },
     "execution_count": 27,
     "metadata": {},
     "output_type": "execute_result"
    }
   ],
   "source": [
    "# Threshold used \n",
    "\n",
    "fselect.threshold_"
   ]
  },
  {
   "cell_type": "code",
   "execution_count": 28,
   "metadata": {},
   "outputs": [
    {
     "data": {
      "text/plain": [
       "<matplotlib.axes._subplots.AxesSubplot at 0x1f8c7ab97c8>"
      ]
     },
     "execution_count": 28,
     "metadata": {},
     "output_type": "execute_result"
    },
    {
     "data": {
      "image/png": "[encoded data removed]",
      "text/plain": [
       "<Figure size 432x288 with 1 Axes>"
      ]
     },
     "metadata": {
      "needs_background": "light"
     },
     "output_type": "display_data"
    }
   ],
   "source": [
    "# plot distribution of feature importance \n",
    "\n",
    "pd.Series(fselect.estimator_.feature_importances_.ravel()).hist()"
   ]
  },
  {
   "cell_type": "code",
   "execution_count": 29,
   "metadata": {},
   "outputs": [
    {
     "data": {
      "text/plain": [
       "array([[  58, 2143,    5,  261,    1],\n",
       "       [  44,   29,    5,  151,    1],\n",
       "       [  33,    2,    5,   76,    1],\n",
       "       ...,\n",
       "       [  54,  200,    3,  170,    1],\n",
       "       [  34, 1047,    3,  342,    1],\n",
       "       [  38, 1442,    3,  113,    1]], dtype=int64)"
      ]
     },
     "execution_count": 29,
     "metadata": {},
     "output_type": "execute_result"
    }
   ],
   "source": [
    "# model.transform (data) reduce the data to the selected features\n",
    "\n",
    "x_sel = fselect.transform(x)\n",
    "x_sel\n"
   ]
  },
  {
   "cell_type": "code",
   "execution_count": 30,
   "metadata": {},
   "outputs": [
    {
     "name": "stdout",
     "output_type": "stream",
     "text": [
      "Training Accuracy: 0.9335\n",
      "Testing Accuracy: 0.929125\n"
     ]
    }
   ],
   "source": [
    "# Fit logistic regression using only selected features \n",
    "\n",
    "# Split the data into a training and test set.\n",
    "x_train_s, x_test_s, y_train, y_test = train_test_split(x_sel, y,random_state = 5, test_size = 0.2)\n",
    "\n",
    "clf_s = LogisticRegression(solver='lbfgs')\n",
    "# Fit the model on the trainng data.\n",
    "clf_s.fit(x_train_s, y_train)\n",
    "\n",
    "# Print the accuracy\n",
    "print('Training Accuracy: {}'.format((accuracy_score(clf_s.predict(x_train_s), y_train))))\n",
    "print('Testing Accuracy: {}'.format((accuracy_score(clf_s.predict(x_test_s), y_test))))"
   ]
  },
  {
   "cell_type": "code",
   "execution_count": null,
   "metadata": {},
   "outputs": [],
   "source": []
  },
  {
   "cell_type": "code",
   "execution_count": 31,
   "metadata": {},
   "outputs": [
    {
     "data": {
      "text/plain": [
       "array([[  53,  340,   12,  138,    1],\n",
       "       [  36,   75,   12,  485,    2],\n",
       "       [  45, 1288,    7,  399,    6],\n",
       "       ...,\n",
       "       [  58, 1463,   12,  110,    3],\n",
       "       [  26,    1,   31,   14,   20],\n",
       "       [  59, 6237,    8,   63,    1]], dtype=int64)"
      ]
     },
     "execution_count": 31,
     "metadata": {},
     "output_type": "execute_result"
    }
   ],
   "source": [
    "x_train_s"
   ]
  },
  {
   "cell_type": "code",
   "execution_count": 32,
   "metadata": {},
   "outputs": [
    {
     "name": "stdout",
     "output_type": "stream",
     "text": [
      "[[7303   71]\n",
      " [ 496  130]]\n",
      "              precision    recall  f1-score   support\n",
      "\n",
      "           0       0.94      0.99      0.96      7374\n",
      "           1       0.65      0.21      0.31       626\n",
      "\n",
      "    accuracy                           0.93      8000\n",
      "   macro avg       0.79      0.60      0.64      8000\n",
      "weighted avg       0.91      0.93      0.91      8000\n",
      "\n"
     ]
    }
   ],
   "source": [
    "y_pred_s = clf_s.predict(x_test_s)\n",
    "# Generate the confusion matrix and classification report\n",
    "print(confusion_matrix(y_test, y_pred_s))\n",
    "print(classification_report(y_test, y_pred_s))"
   ]
  },
  {
   "cell_type": "code",
   "execution_count": 33,
   "metadata": {},
   "outputs": [
    {
     "name": "stdout",
     "output_type": "stream",
     "text": [
      "Training Accuracy: 1.0\n",
      "Testing Accuracy: 0.9311666666666667\n"
     ]
    }
   ],
   "source": [
    "# Fit Random Forest Classifier using selected features \n",
    "\n",
    "x_train_s, x_test_s, y_train, y_test = train_test_split(x_sel,y, random_state = 42, test_size = 0.3)\n",
    "rfc = (RandomForestClassifier(n_estimators = 100))\n",
    "rfc.fit(x_train_s, y_train)\n",
    "\n",
    "\n",
    "# Print the accuracy\n",
    "print('Training Accuracy: {}'.format((accuracy_score(rfc.predict(x_train_s), y_train))))\n",
    "print('Testing Accuracy: {}'.format((accuracy_score(rfc.predict(x_test_s), y_test))))"
   ]
  },
  {
   "cell_type": "raw",
   "metadata": {},
   "source": [
    "This is interesting. It looks like because we used RFC model to select the features using the training data, the training accuracy shows overfitting. The model already knows the data very well. "
   ]
  },
  {
   "cell_type": "code",
   "execution_count": 34,
   "metadata": {},
   "outputs": [
    {
     "name": "stdout",
     "output_type": "stream",
     "text": [
      "[[10954   174]\n",
      " [  652   220]]\n",
      "              precision    recall  f1-score   support\n",
      "\n",
      "           0       0.94      0.98      0.96     11128\n",
      "           1       0.56      0.25      0.35       872\n",
      "\n",
      "    accuracy                           0.93     12000\n",
      "   macro avg       0.75      0.62      0.66     12000\n",
      "weighted avg       0.92      0.93      0.92     12000\n",
      "\n"
     ]
    }
   ],
   "source": [
    "y_pred_s = rfc.predict(x_test_s)\n",
    "# Generate the confusion matrix and classification report\n",
    "print(confusion_matrix(y_test, y_pred_s))\n",
    "print(classification_report(y_test, y_pred_s))"
   ]
  },
  {
   "cell_type": "code",
   "execution_count": 35,
   "metadata": {},
   "outputs": [
    {
     "name": "stdout",
     "output_type": "stream",
     "text": [
      "[[494  86]\n",
      " [125 454]]\n",
      "              precision    recall  f1-score   support\n",
      "\n",
      "           0       0.80      0.85      0.82       580\n",
      "           1       0.84      0.78      0.81       579\n",
      "\n",
      "    accuracy                           0.82      1159\n",
      "   macro avg       0.82      0.82      0.82      1159\n",
      "weighted avg       0.82      0.82      0.82      1159\n",
      "\n"
     ]
    }
   ],
   "source": [
    "# lets use the undersample \n",
    "x_s_res, y_s_res = rus.fit_resample (x_sel, y)\n",
    "\n",
    "# Split the data into a training and test set.\n",
    "x_s_res_train, x_s_res_test, y_s_res_train, y_s_res_test = train_test_split(x_s_res, y_s_res, random_state = 5, test_size = 0.2)\n",
    "\n",
    "# Fit the model on the trainng data.\n",
    "rfc.fit(x_s_res_train, y_s_res_train)\n",
    "y_s_res_pred = rfc.predict(x_s_res_test)\n",
    "# Generate the confusion matrix and classification report\n",
    "print(confusion_matrix(y_s_res_test, y_s_res_pred))\n",
    "print(classification_report(y_s_res_test, y_s_res_pred))"
   ]
  },
  {
   "cell_type": "markdown",
   "metadata": {},
   "source": [
    "the same performance but based on only the 5 selected features. \n",
    "\n",
    "### Additional Note: 11/25 \n",
    "- Improve performance with the selected features and undersampled. Try outperform current performance. \n",
    "- other models inlcuding neural networks. Building a complex model (as complex as it could overfit the data).\n",
    "- What can we propose to the client? \n",
    "- xgboost \n"
   ]
  },
  {
   "cell_type": "code",
   "execution_count": 37,
   "metadata": {},
   "outputs": [
    {
     "name": "stderr",
     "output_type": "stream",
     "text": [
      "100%|██████████| 30/30 [00:06<00:00,  4.68it/s]\n"
     ]
    },
    {
     "name": "stdout",
     "output_type": "stream",
     "text": [
      "                               Accuracy  Balanced Accuracy  ROC AUC  F1 Score  \\\n",
      "Model                                                                           \n",
      "LGBMClassifier                     0.84               0.84     0.84      0.84   \n",
      "XGBClassifier                      0.84               0.84     0.84      0.84   \n",
      "RandomForestClassifier             0.83               0.83     0.83      0.83   \n",
      "ExtraTreesClassifier               0.82               0.82     0.82      0.82   \n",
      "AdaBoostClassifier                 0.82               0.82     0.82      0.82   \n",
      "SVC                                0.82               0.82     0.82      0.82   \n",
      "NuSVC                              0.81               0.81     0.81      0.81   \n",
      "KNeighborsClassifier               0.81               0.81     0.81      0.81   \n",
      "BaggingClassifier                  0.80               0.80     0.80      0.80   \n",
      "LabelSpreading                     0.80               0.80     0.80      0.80   \n",
      "QuadraticDiscriminantAnalysis      0.80               0.79     0.79      0.79   \n",
      "LabelPropagation                   0.79               0.79     0.79      0.79   \n",
      "BernoulliNB                        0.79               0.79     0.79      0.79   \n",
      "LogisticRegression                 0.79               0.79     0.79      0.79   \n",
      "CalibratedClassifierCV             0.79               0.79     0.79      0.79   \n",
      "GaussianNB                         0.79               0.79     0.79      0.79   \n",
      "LinearSVC                          0.79               0.79     0.79      0.78   \n",
      "LinearDiscriminantAnalysis         0.79               0.79     0.79      0.78   \n",
      "RidgeClassifierCV                  0.79               0.79     0.79      0.78   \n",
      "RidgeClassifier                    0.79               0.79     0.79      0.78   \n",
      "NearestCentroid                    0.78               0.78     0.78      0.78   \n",
      "SGDClassifier                      0.78               0.78     0.78      0.78   \n",
      "ExtraTreeClassifier                0.75               0.75     0.75      0.75   \n",
      "PassiveAggressiveClassifier        0.74               0.74     0.74      0.74   \n",
      "DecisionTreeClassifier             0.74               0.74     0.74      0.74   \n",
      "Perceptron                         0.73               0.73     0.73      0.73   \n",
      "CheckingClassifier                 0.50               0.50     0.50      0.34   \n",
      "DummyClassifier                    0.50               0.50     0.50      0.50   \n",
      "\n",
      "                               Time Taken  \n",
      "Model                                      \n",
      "LGBMClassifier                       0.51  \n",
      "XGBClassifier                        0.25  \n",
      "RandomForestClassifier               0.64  \n",
      "ExtraTreesClassifier                 0.50  \n",
      "AdaBoostClassifier                   0.22  \n",
      "SVC                                  0.57  \n",
      "NuSVC                                0.67  \n",
      "KNeighborsClassifier                 0.07  \n",
      "BaggingClassifier                    0.13  \n",
      "LabelSpreading                       0.97  \n",
      "QuadraticDiscriminantAnalysis        0.02  \n",
      "LabelPropagation                     0.57  \n",
      "BernoulliNB                          0.02  \n",
      "LogisticRegression                   0.02  \n",
      "CalibratedClassifierCV               0.71  \n",
      "GaussianNB                           0.02  \n",
      "LinearSVC                            0.23  \n",
      "LinearDiscriminantAnalysis           0.02  \n",
      "RidgeClassifierCV                    0.02  \n",
      "RidgeClassifier                      0.03  \n",
      "NearestCentroid                      0.02  \n",
      "SGDClassifier                        0.04  \n",
      "ExtraTreeClassifier                  0.02  \n",
      "PassiveAggressiveClassifier          0.02  \n",
      "DecisionTreeClassifier               0.03  \n",
      "Perceptron                           0.02  \n",
      "CheckingClassifier                   0.01  \n",
      "DummyClassifier                      0.02  \n"
     ]
    }
   ],
   "source": [
    "from lazypredict.Supervised import LazyClassifier\n",
    "\n",
    "#Explore which models would work well with this dataset. `lazyPredict` helps generate sutable models. \n",
    "x_s_res_train, x_s_res_test, y_s_res_train, y_s_res_test = train_test_split(x_s_res, y_s_res, random_state = 123, test_size = 0.2)\n",
    "\n",
    "clf = LazyClassifier(verbose = 0, ignore_warnings = True, predictions = True, custom_metric = None)\n",
    "models,predictions = clf.fit(x_s_res_train, x_s_res_test, y_s_res_train, y_s_res_test)\n",
    "\n",
    "print(models)"
   ]
  },
  {
   "cell_type": "code",
   "execution_count": 38,
   "metadata": {},
   "outputs": [
    {
     "name": "stdout",
     "output_type": "stream",
     "text": [
      "[0]\tvalidation_0-auc:0.866604\tvalidation_0-error:0.20354\tvalidation_1-auc:0.861675\tvalidation_1-error:0.203624\n",
      "[1]\tvalidation_0-auc:0.874865\tvalidation_0-error:0.193611\tvalidation_1-auc:0.868347\tvalidation_1-error:0.194996\n",
      "[2]\tvalidation_0-auc:0.875556\tvalidation_0-error:0.196417\tvalidation_1-auc:0.86944\tvalidation_1-error:0.196721\n",
      "[3]\tvalidation_0-auc:0.876845\tvalidation_0-error:0.194259\tvalidation_1-auc:0.871017\tvalidation_1-error:0.194996\n",
      "[4]\tvalidation_0-auc:0.877259\tvalidation_0-error:0.194474\tvalidation_1-auc:0.871723\tvalidation_1-error:0.194996\n",
      "[5]\tvalidation_0-auc:0.881045\tvalidation_0-error:0.194259\tvalidation_1-auc:0.87623\tvalidation_1-error:0.194996\n",
      "[6]\tvalidation_0-auc:0.88427\tvalidation_0-error:0.194259\tvalidation_1-auc:0.879412\tvalidation_1-error:0.19327\n",
      "[7]\tvalidation_0-auc:0.884392\tvalidation_0-error:0.192532\tvalidation_1-auc:0.879547\tvalidation_1-error:0.194133\n",
      "[8]\tvalidation_0-auc:0.886076\tvalidation_0-error:0.193179\tvalidation_1-auc:0.879366\tvalidation_1-error:0.194133\n",
      "[9]\tvalidation_0-auc:0.888116\tvalidation_0-error:0.193179\tvalidation_1-auc:0.881274\tvalidation_1-error:0.194133\n",
      "[10]\tvalidation_0-auc:0.888351\tvalidation_0-error:0.194043\tvalidation_1-auc:0.881379\tvalidation_1-error:0.194133\n",
      "[11]\tvalidation_0-auc:0.890217\tvalidation_0-error:0.193395\tvalidation_1-auc:0.883371\tvalidation_1-error:0.19327\n",
      "[12]\tvalidation_0-auc:0.89066\tvalidation_0-error:0.193611\tvalidation_1-auc:0.883675\tvalidation_1-error:0.194133\n",
      "[13]\tvalidation_0-auc:0.892066\tvalidation_0-error:0.192748\tvalidation_1-auc:0.884373\tvalidation_1-error:0.192407\n",
      "[14]\tvalidation_0-auc:0.892787\tvalidation_0-error:0.18951\tvalidation_1-auc:0.885586\tvalidation_1-error:0.188956\n",
      "[15]\tvalidation_0-auc:0.893053\tvalidation_0-error:0.189942\tvalidation_1-auc:0.885455\tvalidation_1-error:0.189819\n",
      "[16]\tvalidation_0-auc:0.893611\tvalidation_0-error:0.189294\tvalidation_1-auc:0.886222\tvalidation_1-error:0.188093\n",
      "[17]\tvalidation_0-auc:0.894049\tvalidation_0-error:0.189726\tvalidation_1-auc:0.886343\tvalidation_1-error:0.188093\n",
      "[18]\tvalidation_0-auc:0.894437\tvalidation_0-error:0.188863\tvalidation_1-auc:0.886209\tvalidation_1-error:0.183779\n",
      "[19]\tvalidation_0-auc:0.894852\tvalidation_0-error:0.188431\tvalidation_1-auc:0.886751\tvalidation_1-error:0.183779\n",
      "[20]\tvalidation_0-auc:0.895603\tvalidation_0-error:0.188215\tvalidation_1-auc:0.887733\tvalidation_1-error:0.183779\n",
      "[21]\tvalidation_0-auc:0.895815\tvalidation_0-error:0.187136\tvalidation_1-auc:0.887644\tvalidation_1-error:0.182053\n",
      "[22]\tvalidation_0-auc:0.896068\tvalidation_0-error:0.187352\tvalidation_1-auc:0.887829\tvalidation_1-error:0.181191\n",
      "[23]\tvalidation_0-auc:0.896593\tvalidation_0-error:0.18692\tvalidation_1-auc:0.888777\tvalidation_1-error:0.182053\n",
      "[24]\tvalidation_0-auc:0.896981\tvalidation_0-error:0.18692\tvalidation_1-auc:0.888767\tvalidation_1-error:0.180328\n",
      "[25]\tvalidation_0-auc:0.897154\tvalidation_0-error:0.187567\tvalidation_1-auc:0.888978\tvalidation_1-error:0.180328\n",
      "[26]\tvalidation_0-auc:0.897485\tvalidation_0-error:0.187136\tvalidation_1-auc:0.889176\tvalidation_1-error:0.180328\n",
      "[27]\tvalidation_0-auc:0.89813\tvalidation_0-error:0.185841\tvalidation_1-auc:0.889073\tvalidation_1-error:0.177739\n",
      "[28]\tvalidation_0-auc:0.898583\tvalidation_0-error:0.185409\tvalidation_1-auc:0.889571\tvalidation_1-error:0.177739\n",
      "[29]\tvalidation_0-auc:0.898998\tvalidation_0-error:0.184977\tvalidation_1-auc:0.889726\tvalidation_1-error:0.176014\n",
      "[30]\tvalidation_0-auc:0.899658\tvalidation_0-error:0.183035\tvalidation_1-auc:0.89014\tvalidation_1-error:0.175151\n",
      "[31]\tvalidation_0-auc:0.900389\tvalidation_0-error:0.183251\tvalidation_1-auc:0.891098\tvalidation_1-error:0.179465\n",
      "[32]\tvalidation_0-auc:0.900821\tvalidation_0-error:0.183682\tvalidation_1-auc:0.892007\tvalidation_1-error:0.176877\n",
      "[33]\tvalidation_0-auc:0.901173\tvalidation_0-error:0.181956\tvalidation_1-auc:0.892211\tvalidation_1-error:0.178602\n",
      "[34]\tvalidation_0-auc:0.901684\tvalidation_0-error:0.182171\tvalidation_1-auc:0.892654\tvalidation_1-error:0.176014\n",
      "[35]\tvalidation_0-auc:0.902089\tvalidation_0-error:0.181524\tvalidation_1-auc:0.893037\tvalidation_1-error:0.175151\n",
      "[36]\tvalidation_0-auc:0.902602\tvalidation_0-error:0.181092\tvalidation_1-auc:0.893785\tvalidation_1-error:0.175151\n",
      "[37]\tvalidation_0-auc:0.902848\tvalidation_0-error:0.181092\tvalidation_1-auc:0.894091\tvalidation_1-error:0.174288\n",
      "[38]\tvalidation_0-auc:0.903378\tvalidation_0-error:0.181524\tvalidation_1-auc:0.894428\tvalidation_1-error:0.173425\n",
      "[39]\tvalidation_0-auc:0.903814\tvalidation_0-error:0.178934\tvalidation_1-auc:0.894812\tvalidation_1-error:0.175151\n",
      "[40]\tvalidation_0-auc:0.904171\tvalidation_0-error:0.178286\tvalidation_1-auc:0.894824\tvalidation_1-error:0.174288\n",
      "[41]\tvalidation_0-auc:0.904309\tvalidation_0-error:0.177855\tvalidation_1-auc:0.895035\tvalidation_1-error:0.175151\n",
      "[42]\tvalidation_0-auc:0.904631\tvalidation_0-error:0.177855\tvalidation_1-auc:0.89533\tvalidation_1-error:0.176877\n",
      "[43]\tvalidation_0-auc:0.90486\tvalidation_0-error:0.177207\tvalidation_1-auc:0.895592\tvalidation_1-error:0.176877\n",
      "[44]\tvalidation_0-auc:0.905013\tvalidation_0-error:0.177207\tvalidation_1-auc:0.895518\tvalidation_1-error:0.176877\n",
      "[45]\tvalidation_0-auc:0.905467\tvalidation_0-error:0.176128\tvalidation_1-auc:0.895544\tvalidation_1-error:0.176014\n",
      "[46]\tvalidation_0-auc:0.905601\tvalidation_0-error:0.176128\tvalidation_1-auc:0.895485\tvalidation_1-error:0.176014\n",
      "[47]\tvalidation_0-auc:0.905864\tvalidation_0-error:0.17548\tvalidation_1-auc:0.895489\tvalidation_1-error:0.176014\n",
      "[48]\tvalidation_0-auc:0.906396\tvalidation_0-error:0.175912\tvalidation_1-auc:0.895978\tvalidation_1-error:0.176014\n",
      "[49]\tvalidation_0-auc:0.906496\tvalidation_0-error:0.176128\tvalidation_1-auc:0.896092\tvalidation_1-error:0.174288\n",
      "[50]\tvalidation_0-auc:0.906651\tvalidation_0-error:0.175264\tvalidation_1-auc:0.896232\tvalidation_1-error:0.173425\n",
      "[51]\tvalidation_0-auc:0.90695\tvalidation_0-error:0.175049\tvalidation_1-auc:0.896209\tvalidation_1-error:0.173425\n",
      "[52]\tvalidation_0-auc:0.907187\tvalidation_0-error:0.175696\tvalidation_1-auc:0.896316\tvalidation_1-error:0.1717\n",
      "[53]\tvalidation_0-auc:0.907509\tvalidation_0-error:0.174833\tvalidation_1-auc:0.896602\tvalidation_1-error:0.1717\n",
      "[54]\tvalidation_0-auc:0.907875\tvalidation_0-error:0.173538\tvalidation_1-auc:0.896795\tvalidation_1-error:0.1717\n",
      "[55]\tvalidation_0-auc:0.908156\tvalidation_0-error:0.172458\tvalidation_1-auc:0.896974\tvalidation_1-error:0.172563\n",
      "[56]\tvalidation_0-auc:0.908452\tvalidation_0-error:0.172027\tvalidation_1-auc:0.897117\tvalidation_1-error:0.170837\n",
      "[57]\tvalidation_0-auc:0.908959\tvalidation_0-error:0.171163\tvalidation_1-auc:0.897452\tvalidation_1-error:0.170837\n",
      "[58]\tvalidation_0-auc:0.909077\tvalidation_0-error:0.1703\tvalidation_1-auc:0.897549\tvalidation_1-error:0.169111\n",
      "[59]\tvalidation_0-auc:0.90919\tvalidation_0-error:0.170948\tvalidation_1-auc:0.897778\tvalidation_1-error:0.169111\n",
      "[60]\tvalidation_0-auc:0.90934\tvalidation_0-error:0.170516\tvalidation_1-auc:0.897724\tvalidation_1-error:0.169974\n",
      "[61]\tvalidation_0-auc:0.909825\tvalidation_0-error:0.169652\tvalidation_1-auc:0.898158\tvalidation_1-error:0.169974\n",
      "[62]\tvalidation_0-auc:0.910014\tvalidation_0-error:0.169652\tvalidation_1-auc:0.898172\tvalidation_1-error:0.169974\n",
      "[63]\tvalidation_0-auc:0.910327\tvalidation_0-error:0.168789\tvalidation_1-auc:0.898613\tvalidation_1-error:0.168248\n",
      "[64]\tvalidation_0-auc:0.910556\tvalidation_0-error:0.169437\tvalidation_1-auc:0.898774\tvalidation_1-error:0.166523\n",
      "[65]\tvalidation_0-auc:0.910899\tvalidation_0-error:0.167494\tvalidation_1-auc:0.898994\tvalidation_1-error:0.166523\n",
      "[66]\tvalidation_0-auc:0.911143\tvalidation_0-error:0.166415\tvalidation_1-auc:0.898795\tvalidation_1-error:0.167386\n",
      "[67]\tvalidation_0-auc:0.911214\tvalidation_0-error:0.165983\tvalidation_1-auc:0.898825\tvalidation_1-error:0.167386\n",
      "[68]\tvalidation_0-auc:0.91135\tvalidation_0-error:0.165551\tvalidation_1-auc:0.898905\tvalidation_1-error:0.167386\n",
      "[69]\tvalidation_0-auc:0.911658\tvalidation_0-error:0.165767\tvalidation_1-auc:0.899143\tvalidation_1-error:0.167386\n",
      "[70]\tvalidation_0-auc:0.911806\tvalidation_0-error:0.165551\tvalidation_1-auc:0.899055\tvalidation_1-error:0.167386\n",
      "[71]\tvalidation_0-auc:0.912049\tvalidation_0-error:0.165336\tvalidation_1-auc:0.899152\tvalidation_1-error:0.169111\n",
      "[72]\tvalidation_0-auc:0.91226\tvalidation_0-error:0.16512\tvalidation_1-auc:0.899182\tvalidation_1-error:0.169974\n",
      "[73]\tvalidation_0-auc:0.912326\tvalidation_0-error:0.165551\tvalidation_1-auc:0.899286\tvalidation_1-error:0.169111\n",
      "[74]\tvalidation_0-auc:0.912371\tvalidation_0-error:0.165336\tvalidation_1-auc:0.899215\tvalidation_1-error:0.168248\n",
      "[75]\tvalidation_0-auc:0.912604\tvalidation_0-error:0.164688\tvalidation_1-auc:0.899325\tvalidation_1-error:0.169111\n",
      "[76]\tvalidation_0-auc:0.912674\tvalidation_0-error:0.164472\tvalidation_1-auc:0.899253\tvalidation_1-error:0.167386\n",
      "[77]\tvalidation_0-auc:0.912787\tvalidation_0-error:0.163609\tvalidation_1-auc:0.899355\tvalidation_1-error:0.168248\n",
      "[78]\tvalidation_0-auc:0.912957\tvalidation_0-error:0.163609\tvalidation_1-auc:0.899377\tvalidation_1-error:0.169111\n",
      "[79]\tvalidation_0-auc:0.913062\tvalidation_0-error:0.163609\tvalidation_1-auc:0.899347\tvalidation_1-error:0.169111\n",
      "[80]\tvalidation_0-auc:0.913244\tvalidation_0-error:0.16253\tvalidation_1-auc:0.89935\tvalidation_1-error:0.169111\n",
      "[81]\tvalidation_0-auc:0.913315\tvalidation_0-error:0.162746\tvalidation_1-auc:0.899249\tvalidation_1-error:0.169974\n",
      "[82]\tvalidation_0-auc:0.913578\tvalidation_0-error:0.162961\tvalidation_1-auc:0.899122\tvalidation_1-error:0.167386\n",
      "[83]\tvalidation_0-auc:0.913804\tvalidation_0-error:0.162746\tvalidation_1-auc:0.899179\tvalidation_1-error:0.16566\n",
      "[84]\tvalidation_0-auc:0.913866\tvalidation_0-error:0.162746\tvalidation_1-auc:0.899221\tvalidation_1-error:0.16566\n",
      "[85]\tvalidation_0-auc:0.913991\tvalidation_0-error:0.162746\tvalidation_1-auc:0.899084\tvalidation_1-error:0.16566\n",
      "[86]\tvalidation_0-auc:0.914118\tvalidation_0-error:0.16253\tvalidation_1-auc:0.899185\tvalidation_1-error:0.168248\n",
      "[87]\tvalidation_0-auc:0.914151\tvalidation_0-error:0.162746\tvalidation_1-auc:0.899209\tvalidation_1-error:0.167386\n",
      "[88]\tvalidation_0-auc:0.914418\tvalidation_0-error:0.16253\tvalidation_1-auc:0.899283\tvalidation_1-error:0.166523\n",
      "[89]\tvalidation_0-auc:0.914573\tvalidation_0-error:0.16253\tvalidation_1-auc:0.899149\tvalidation_1-error:0.166523\n",
      "[90]\tvalidation_0-auc:0.914679\tvalidation_0-error:0.162314\tvalidation_1-auc:0.899137\tvalidation_1-error:0.166523\n",
      "[91]\tvalidation_0-auc:0.914845\tvalidation_0-error:0.161882\tvalidation_1-auc:0.899242\tvalidation_1-error:0.164797\n",
      "[92]\tvalidation_0-auc:0.91506\tvalidation_0-error:0.161882\tvalidation_1-auc:0.899224\tvalidation_1-error:0.164797\n",
      "[93]\tvalidation_0-auc:0.915193\tvalidation_0-error:0.161882\tvalidation_1-auc:0.899414\tvalidation_1-error:0.164797\n",
      "[94]\tvalidation_0-auc:0.915213\tvalidation_0-error:0.161882\tvalidation_1-auc:0.89934\tvalidation_1-error:0.164797\n",
      "[95]\tvalidation_0-auc:0.915372\tvalidation_0-error:0.16145\tvalidation_1-auc:0.899346\tvalidation_1-error:0.164797\n",
      "[96]\tvalidation_0-auc:0.915564\tvalidation_0-error:0.161235\tvalidation_1-auc:0.899244\tvalidation_1-error:0.164797\n",
      "[97]\tvalidation_0-auc:0.915754\tvalidation_0-error:0.161235\tvalidation_1-auc:0.899182\tvalidation_1-error:0.163934\n",
      "[98]\tvalidation_0-auc:0.915906\tvalidation_0-error:0.160803\tvalidation_1-auc:0.899173\tvalidation_1-error:0.163934\n",
      "[99]\tvalidation_0-auc:0.915951\tvalidation_0-error:0.160587\tvalidation_1-auc:0.899158\tvalidation_1-error:0.163934\n",
      "Wall time: 656 ms\n"
     ]
    },
    {
     "data": {
      "text/plain": [
       "XGBClassifier()"
      ]
     },
     "execution_count": 38,
     "metadata": {},
     "output_type": "execute_result"
    }
   ],
   "source": [
    "# Based on the above lazypredict results, XGBoost algorithm. \n",
    "model = XGBClassifier()\n",
    "eval_set = [(x_s_res_train, y_s_res_train ), (x_s_res_test, y_s_res_test)]\n",
    "eval_metric = [\"auc\",\"error\"]\n",
    "%time model.fit(x_s_res_train, y_s_res_train, eval_metric=eval_metric, eval_set=eval_set, verbose=True)\n"
   ]
  },
  {
   "cell_type": "code",
   "execution_count": 39,
   "metadata": {},
   "outputs": [
    {
     "name": "stdout",
     "output_type": "stream",
     "text": [
      "[[504  79]\n",
      " [113 463]]\n",
      "              precision    recall  f1-score   support\n",
      "\n",
      "           0       0.82      0.86      0.84       583\n",
      "           1       0.85      0.80      0.83       576\n",
      "\n",
      "    accuracy                           0.83      1159\n",
      "   macro avg       0.84      0.83      0.83      1159\n",
      "weighted avg       0.84      0.83      0.83      1159\n",
      "\n"
     ]
    }
   ],
   "source": [
    "# Time to fine-tune our model \n",
    "\n",
    "xgbc = XGBClassifier(silent = False, \n",
    "                      scale_pos_weight = 1,\n",
    "                      learning_rate = 0.01,  \n",
    "                      colsample_bytree = 0.8, # % of columns used by each tree. We already feature engenered the colunmns hence will use all. \n",
    "                      subsample = 0.8, # % of rows taken to build the tree\n",
    "                      objective = 'binary:logistic', \n",
    "                      n_estimators = 1000, # 100 if size of data is high, 1000 if its medium-low \n",
    "                      max_depth = 5, # start from low number (3) and will increase it incrementally by 1, until no performance gain. \n",
    "                      alpha = 0.3,\n",
    "                      gamma = 5)  # acts as a regularization\n",
    "\n",
    "\n",
    "xgbc.fit(x_s_res_train, y_s_res_train)\n",
    "preds = xgbc.predict(x_s_res_test)\n",
    "# Generate the confusion matrix and classification report\n",
    "print(confusion_matrix(y_s_res_test, preds))\n",
    "print(classification_report(y_s_res_test, preds))\n"
   ]
  },
  {
   "cell_type": "markdown",
   "metadata": {},
   "source": [
    "### Additional note 12/02/2020\n",
    "- voting classifier: (ensemble model - ensembling techniques)\n",
    "- choose which model to include in the voting classifier (rationale behind)\n",
    "- decision rules (ploting xgboost decision trees)"
   ]
  },
  {
   "cell_type": "code",
   "execution_count": 40,
   "metadata": {},
   "outputs": [
    {
     "name": "stdout",
     "output_type": "stream",
     "text": [
      "Accuraccy: 82.06% (1.23%)\n"
     ]
    }
   ],
   "source": [
    "# Evaluate XGBoost model with k-fold Cross Validation\n",
    "\n",
    "kfold = KFold(n_splits = 5, random_state = 7)\n",
    "model = xgbc\n",
    "cv_results = cross_val_score(model, x_s_res_train, y_s_res_train, cv = kfold)\n",
    "print ('Accuraccy: %.2f%% (%.2f%%)' % (cv_results.mean()*100, cv_results.std()*100))\n"
   ]
  },
  {
   "cell_type": "code",
   "execution_count": 41,
   "metadata": {},
   "outputs": [
    {
     "name": "stdout",
     "output_type": "stream",
     "text": [
      "   train-auc-mean  train-auc-std  test-auc-mean  test-auc-std\n",
      "0            0.86           0.00           0.85          0.01\n",
      "1            0.87           0.00           0.86          0.01\n",
      "2            0.87           0.00           0.86          0.01\n",
      "3            0.87           0.00           0.87          0.01\n",
      "4            0.87           0.00           0.87          0.01\n",
      "0.8659839999999999\n"
     ]
    }
   ],
   "source": [
    "\n",
    "# Convert the datset into an optimized data stracture called Dmatrix that XGBoost supports and gives it acclaimed performance and efficiency gains. \n",
    "data_dmatrix = xgb.DMatrix(data = x_s_res, label = y_s_res)\n",
    "\n",
    "# Create the parameter dictionary: params\n",
    "params = {\"objective\":\"reg:logistic\", \"max_depth\":3, \"learning_rate\" : 0.01, \"colsample_bytree\": 1, \n",
    "          \"subsample\": 0.8, \"n_estimators\" : 1000, \"alpha\": 0.3, \"gamma\": 5}\n",
    "\n",
    "# Perform cross_validation: cv_results\n",
    "cv_results = xgb.cv(dtrain = data_dmatrix, params = params,\n",
    "                   nfold = 5, num_boost_round = 5,\n",
    "                   metrics = \"auc\", as_pandas = True, seed = 123)\n",
    "# Print cv_results\n",
    "print(cv_results)\n",
    "\n",
    "# Print the AUC\n",
    "print((cv_results[\"test-auc-mean\"]).iloc[-1])\n",
    "\n"
   ]
  },
  {
   "cell_type": "code",
   "execution_count": 42,
   "metadata": {},
   "outputs": [
    {
     "name": "stdout",
     "output_type": "stream",
     "text": [
      "0.6192124434237312\n",
      "0.6252348937236397\n",
      "[[973 183]\n",
      " [258 902]]\n",
      "[[957 199]\n",
      " [235 925]]\n"
     ]
    },
    {
     "data": {
      "image/png": "[encoded data removed]",
      "text/plain": [
       "<Figure size 432x288 with 2 Axes>"
      ]
     },
     "metadata": {
      "needs_background": "light"
     },
     "output_type": "display_data"
    }
   ],
   "source": [
    "# Plot confusion matrix from Cross-Validation with F1\n",
    "\n",
    "from museotoolbox.ai import SuperLearner\n",
    "from museotoolbox.cross_validation import RandomStratifiedKFold\n",
    "from museotoolbox.charts import PlotConfusionMatrix\n",
    "\n",
    "# Create CV\n",
    "RSKF = RandomStratifiedKFold(n_splits=2,\n",
    "                random_state=12,verbose=False)\n",
    "\n",
    "#start learning\n",
    "SL = SuperLearner(classifier = model, param_grid = dict(n_estimators=[10,50]))\n",
    "SL.fit(x_s_res_train, y_s_res_train, cv = RSKF)\n",
    "\n",
    "# Get kappa from each fold\n",
    "for stats in SL.get_stats_from_cv(confusion_matrix = False, kappa = True):\n",
    "    print(stats['kappa'])\n",
    "    \n",
    "# Get each confusion matrix from folds\n",
    "cms = []\n",
    "for stats in SL.get_stats_from_cv(confusion_matrix = True):\n",
    "    cms.append(stats['confusion_matrix'])\n",
    "    print(stats['confusion_matrix'])\n",
    "# Plot confusion matrix\n",
    "\n",
    "meanCM = np.mean(cms,axis = 0).astype(np.int16)\n",
    "pltCM = PlotConfusionMatrix(meanCM.T) # Translate for Y = prediction and X = truth\n",
    "pltCM.add_text()\n",
    "pltCM.add_f1()\n",
    "pltCM.color_diagonal()\n"
   ]
  },
  {
   "cell_type": "code",
   "execution_count": null,
   "metadata": {},
   "outputs": [],
   "source": []
  }
 ],
 "metadata": {
  "kernelspec": {
   "display_name": "Python 3",
   "language": "python",
   "name": "python3"
  },
  "language_info": {
   "codemirror_mode": {
    "name": "ipython",
    "version": 3
   },
   "file_extension": ".py",
   "mimetype": "text/x-python",
   "name": "python",
   "nbconvert_exporter": "python",
   "pygments_lexer": "ipython3",
   "version": "3.7.4"
  }
 },
 "nbformat": 4,
 "nbformat_minor": 4
}
