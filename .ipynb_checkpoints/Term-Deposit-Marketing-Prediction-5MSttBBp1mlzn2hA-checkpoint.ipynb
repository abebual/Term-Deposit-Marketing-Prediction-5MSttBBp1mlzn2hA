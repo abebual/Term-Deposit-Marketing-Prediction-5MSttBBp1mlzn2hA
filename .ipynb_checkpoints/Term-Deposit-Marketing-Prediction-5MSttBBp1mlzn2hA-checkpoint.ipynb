{
 "cells": [
  {
   "cell_type": "code",
   "execution_count": 1,
   "metadata": {},
   "outputs": [
    {
     "name": "stderr",
     "output_type": "stream",
     "text": [
      "C:\\Users\\abebu\\DS\\lib\\site-packages\\sklearn\\utils\\deprecation.py:143: FutureWarning: The sklearn.utils.testing module is  deprecated in version 0.22 and will be removed in version 0.24. The corresponding classes / functions should instead be imported from sklearn.utils. Anything that cannot be imported from sklearn.utils is now part of the private API.\n",
      "  warnings.warn(message, FutureWarning)\n",
      "Using TensorFlow backend.\n"
     ]
    }
   ],
   "source": [
    "# Import libraries \n",
    "\n",
    "import pandas as pd \n",
    "import numpy as np\n",
    "from collections import Counter\n",
    "import seaborn as sns\n",
    "import matplotlib.pyplot as plt\n",
    "import matplotlib.ticker as ticker\n",
    "import statsmodels.api as sm #i like statsmodels result table, lets me explore the coefficents more.\n",
    "from sklearn.linear_model import LogisticRegression\n",
    "from sklearn.feature_selection import f_regression\n",
    "from sklearn.model_selection import train_test_split\n",
    "from sklearn.metrics import confusion_matrix\n",
    "from sklearn.metrics import classification_report\n",
    "from sklearn.metrics import accuracy_score\n",
    "from sklearn.metrics import f1_score\n",
    "from sklearn.model_selection import cross_val_score\n",
    "from sklearn.model_selection import GridSearchCV\n",
    "from sklearn.ensemble import RandomForestClassifier\n",
    "from sklearn.ensemble import GradientBoostingClassifier\n",
    "from lazypredict.Supervised import LazyClassifier\n",
    "\n",
    "from sklearn.svm import SVC\n",
    "from sklearn.linear_model import RidgeClassifier\n",
    "from sklearn.ensemble import AdaBoostClassifier\n",
    "from sklearn.neighbors import KNeighborsClassifier\n",
    "from sklearn.ensemble import BaggingClassifier\n",
    "from sklearn.naive_bayes import BernoulliNB\n",
    "from sklearn.neural_network import MLPClassifier\n",
    "\n",
    "from imblearn.under_sampling import RandomUnderSampler \n",
    "from sklearn.feature_selection import SelectFromModel\n",
    "\n",
    "# import warnings filter\n",
    "from warnings import simplefilter\n",
    "# ignore all future warnings\n",
    "simplefilter(action = 'ignore', category = FutureWarning)"
   ]
  },
  {
   "cell_type": "code",
   "execution_count": 2,
   "metadata": {},
   "outputs": [
    {
     "data": {
      "text/html": [
       "<div>\n",
       "<style scoped>\n",
       "    .dataframe tbody tr th:only-of-type {\n",
       "        vertical-align: middle;\n",
       "    }\n",
       "\n",
       "    .dataframe tbody tr th {\n",
       "        vertical-align: top;\n",
       "    }\n",
       "\n",
       "    .dataframe thead th {\n",
       "        text-align: right;\n",
       "    }\n",
       "</style>\n",
       "<table border=\"1\" class=\"dataframe\">\n",
       "  <thead>\n",
       "    <tr style=\"text-align: right;\">\n",
       "      <th></th>\n",
       "      <th>age</th>\n",
       "      <th>job</th>\n",
       "      <th>marital</th>\n",
       "      <th>education</th>\n",
       "      <th>default</th>\n",
       "      <th>balance</th>\n",
       "      <th>housing</th>\n",
       "      <th>loan</th>\n",
       "      <th>contact</th>\n",
       "      <th>day</th>\n",
       "      <th>month</th>\n",
       "      <th>duration</th>\n",
       "      <th>campaign</th>\n",
       "      <th>y</th>\n",
       "    </tr>\n",
       "  </thead>\n",
       "  <tbody>\n",
       "    <tr>\n",
       "      <td>0</td>\n",
       "      <td>58</td>\n",
       "      <td>management</td>\n",
       "      <td>married</td>\n",
       "      <td>tertiary</td>\n",
       "      <td>no</td>\n",
       "      <td>2143</td>\n",
       "      <td>yes</td>\n",
       "      <td>no</td>\n",
       "      <td>unknown</td>\n",
       "      <td>5</td>\n",
       "      <td>may</td>\n",
       "      <td>261</td>\n",
       "      <td>1</td>\n",
       "      <td>no</td>\n",
       "    </tr>\n",
       "    <tr>\n",
       "      <td>1</td>\n",
       "      <td>44</td>\n",
       "      <td>technician</td>\n",
       "      <td>single</td>\n",
       "      <td>secondary</td>\n",
       "      <td>no</td>\n",
       "      <td>29</td>\n",
       "      <td>yes</td>\n",
       "      <td>no</td>\n",
       "      <td>unknown</td>\n",
       "      <td>5</td>\n",
       "      <td>may</td>\n",
       "      <td>151</td>\n",
       "      <td>1</td>\n",
       "      <td>no</td>\n",
       "    </tr>\n",
       "    <tr>\n",
       "      <td>2</td>\n",
       "      <td>33</td>\n",
       "      <td>entrepreneur</td>\n",
       "      <td>married</td>\n",
       "      <td>secondary</td>\n",
       "      <td>no</td>\n",
       "      <td>2</td>\n",
       "      <td>yes</td>\n",
       "      <td>yes</td>\n",
       "      <td>unknown</td>\n",
       "      <td>5</td>\n",
       "      <td>may</td>\n",
       "      <td>76</td>\n",
       "      <td>1</td>\n",
       "      <td>no</td>\n",
       "    </tr>\n",
       "    <tr>\n",
       "      <td>3</td>\n",
       "      <td>47</td>\n",
       "      <td>blue-collar</td>\n",
       "      <td>married</td>\n",
       "      <td>unknown</td>\n",
       "      <td>no</td>\n",
       "      <td>1506</td>\n",
       "      <td>yes</td>\n",
       "      <td>no</td>\n",
       "      <td>unknown</td>\n",
       "      <td>5</td>\n",
       "      <td>may</td>\n",
       "      <td>92</td>\n",
       "      <td>1</td>\n",
       "      <td>no</td>\n",
       "    </tr>\n",
       "    <tr>\n",
       "      <td>4</td>\n",
       "      <td>33</td>\n",
       "      <td>unknown</td>\n",
       "      <td>single</td>\n",
       "      <td>unknown</td>\n",
       "      <td>no</td>\n",
       "      <td>1</td>\n",
       "      <td>no</td>\n",
       "      <td>no</td>\n",
       "      <td>unknown</td>\n",
       "      <td>5</td>\n",
       "      <td>may</td>\n",
       "      <td>198</td>\n",
       "      <td>1</td>\n",
       "      <td>no</td>\n",
       "    </tr>\n",
       "  </tbody>\n",
       "</table>\n",
       "</div>"
      ],
      "text/plain": [
       "   age           job  marital  education default  balance housing loan  \\\n",
       "0   58    management  married   tertiary      no     2143     yes   no   \n",
       "1   44    technician   single  secondary      no       29     yes   no   \n",
       "2   33  entrepreneur  married  secondary      no        2     yes  yes   \n",
       "3   47   blue-collar  married    unknown      no     1506     yes   no   \n",
       "4   33       unknown   single    unknown      no        1      no   no   \n",
       "\n",
       "   contact  day month  duration  campaign   y  \n",
       "0  unknown    5   may       261         1  no  \n",
       "1  unknown    5   may       151         1  no  \n",
       "2  unknown    5   may        76         1  no  \n",
       "3  unknown    5   may        92         1  no  \n",
       "4  unknown    5   may       198         1  no  "
      ]
     },
     "execution_count": 2,
     "metadata": {},
     "output_type": "execute_result"
    }
   ],
   "source": [
    "#load dataset \n",
    "td = pd.read_csv('term-deposit-marketing-2020.csv', header = 0)\n",
    "td.head()"
   ]
  },
  {
   "cell_type": "code",
   "execution_count": 3,
   "metadata": {},
   "outputs": [
    {
     "name": "stdout",
     "output_type": "stream",
     "text": [
      "<class 'pandas.core.frame.DataFrame'>\n",
      "RangeIndex: 40000 entries, 0 to 39999\n",
      "Data columns (total 14 columns):\n",
      "age          40000 non-null int64\n",
      "job          40000 non-null object\n",
      "marital      40000 non-null object\n",
      "education    40000 non-null object\n",
      "default      40000 non-null object\n",
      "balance      40000 non-null int64\n",
      "housing      40000 non-null object\n",
      "loan         40000 non-null object\n",
      "contact      40000 non-null object\n",
      "day          40000 non-null int64\n",
      "month        40000 non-null object\n",
      "duration     40000 non-null int64\n",
      "campaign     40000 non-null int64\n",
      "y            40000 non-null object\n",
      "dtypes: int64(5), object(9)\n",
      "memory usage: 4.3+ MB\n"
     ]
    }
   ],
   "source": [
    "td.info()"
   ]
  },
  {
   "cell_type": "code",
   "execution_count": 4,
   "metadata": {},
   "outputs": [
    {
     "data": {
      "text/plain": [
       "age          0\n",
       "job          0\n",
       "marital      0\n",
       "education    0\n",
       "default      0\n",
       "balance      0\n",
       "housing      0\n",
       "loan         0\n",
       "contact      0\n",
       "day          0\n",
       "month        0\n",
       "duration     0\n",
       "campaign     0\n",
       "y            0\n",
       "dtype: int64"
      ]
     },
     "execution_count": 4,
     "metadata": {},
     "output_type": "execute_result"
    }
   ],
   "source": [
    "# lets see if there are any null values \n",
    "td.isnull().sum()"
   ]
  },
  {
   "cell_type": "markdown",
   "metadata": {},
   "source": [
    "Fortunatlly there are no missing values. "
   ]
  },
  {
   "cell_type": "code",
   "execution_count": 5,
   "metadata": {},
   "outputs": [
    {
     "data": {
      "image/png": "[encoded data removed]",
      "text/plain": [
       "<Figure size 720x432 with 2 Axes>"
      ]
     },
     "metadata": {
      "needs_background": "light"
     },
     "output_type": "display_data"
    }
   ],
   "source": [
    "# Set up  matplotlib figure\n",
    "f, ax = plt.subplots(figsize=(10, 6))\n",
    "\n",
    "ax = sns.countplot(data = td, x = 'education', palette='husl', hue='y')\n",
    "ncount = len(td)\n",
    "ax2 = ax.twinx()\n",
    "ax2.yaxis.tick_left()\n",
    "ax.yaxis.tick_right()\n",
    "ax.yaxis.set_label_position('right')\n",
    "ax2.yaxis.set_label_position('left')\n",
    "ax2.set_ylabel('Frequency [%]')\n",
    "ax.set_ylabel('count')\n",
    "\n",
    "ax.set_xticklabels(ax.get_xticklabels(),rotation=45)\n",
    "\n",
    "for p in ax.patches:\n",
    "    x = p.get_bbox().get_points()[:,0]\n",
    "    y = p.get_bbox().get_points()[1,1]\n",
    "    ax.annotate('{:.1f}%'.format(100.*y/ncount), (x.mean(), y), \n",
    "            ha = 'center', va = 'bottom') # set the alignment of the text\n",
    "\n",
    "# Use a LinearLocator to ensure the correct number of ticks\n",
    "ax.yaxis.set_major_locator(ticker.LinearLocator(11))\n",
    "\n",
    "# Fix the frequency range to 0-100\n",
    "ax2.set_ylim(0,100)\n",
    "ax.set_ylim(0,ncount)\n",
    "ax.set_title('Client Education')\n",
    "\n",
    "# And use a MultipleLocator to ensure a tick spacing of 20\n",
    "ax2.yaxis.set_major_locator(ticker.MultipleLocator(20))\n",
    "\n",
    "# Need to turn the grid on ax2 off, otherwise the gridlines end up on top of the bars\n",
    "ax2.grid(None)\n"
   ]
  },
  {
   "cell_type": "code",
   "execution_count": 6,
   "metadata": {},
   "outputs": [
    {
     "data": {
      "image/png": "[encoded data removed]",
      "text/plain": [
       "<Figure size 792x432 with 1 Axes>"
      ]
     },
     "metadata": {
      "needs_background": "light"
     },
     "output_type": "display_data"
    }
   ],
   "source": [
    "# check if there is any trend with last contact duration\n",
    "subscribed = td.duration.loc[td.y == 'yes']\n",
    "not_subscribed = td.duration.loc[td.y == 'no']\n",
    "\n",
    "plt.figure(figsize = (11, 6))\n",
    "_ = plt.hist(subscribed, bins = 30, alpha = 0.5, label='Client Subscribed')\n",
    "_ = plt.hist(not_subscribed, bins=30, alpha=0.5, label='Client did not Subscribed')\n",
    "_ = plt.xlabel('Last contact duration, in seconds')\n",
    "_ = plt.ylabel('Frequency')\n",
    "_ = plt.legend()\n"
   ]
  },
  {
   "cell_type": "code",
   "execution_count": 7,
   "metadata": {},
   "outputs": [
    {
     "data": {
      "text/html": [
       "<div>\n",
       "<style scoped>\n",
       "    .dataframe tbody tr th:only-of-type {\n",
       "        vertical-align: middle;\n",
       "    }\n",
       "\n",
       "    .dataframe tbody tr th {\n",
       "        vertical-align: top;\n",
       "    }\n",
       "\n",
       "    .dataframe thead th {\n",
       "        text-align: right;\n",
       "    }\n",
       "</style>\n",
       "<table border=\"1\" class=\"dataframe\">\n",
       "  <thead>\n",
       "    <tr style=\"text-align: right;\">\n",
       "      <th></th>\n",
       "      <th>age</th>\n",
       "      <th>balance</th>\n",
       "      <th>day</th>\n",
       "      <th>duration</th>\n",
       "      <th>campaign</th>\n",
       "    </tr>\n",
       "  </thead>\n",
       "  <tbody>\n",
       "    <tr>\n",
       "      <td>count</td>\n",
       "      <td>40000.00</td>\n",
       "      <td>40000.00</td>\n",
       "      <td>40000.00</td>\n",
       "      <td>40000.00</td>\n",
       "      <td>40000.00</td>\n",
       "    </tr>\n",
       "    <tr>\n",
       "      <td>mean</td>\n",
       "      <td>40.54</td>\n",
       "      <td>1274.28</td>\n",
       "      <td>16.02</td>\n",
       "      <td>254.82</td>\n",
       "      <td>2.88</td>\n",
       "    </tr>\n",
       "    <tr>\n",
       "      <td>std</td>\n",
       "      <td>9.64</td>\n",
       "      <td>2903.77</td>\n",
       "      <td>8.28</td>\n",
       "      <td>259.37</td>\n",
       "      <td>3.24</td>\n",
       "    </tr>\n",
       "    <tr>\n",
       "      <td>min</td>\n",
       "      <td>19.00</td>\n",
       "      <td>-8019.00</td>\n",
       "      <td>1.00</td>\n",
       "      <td>0.00</td>\n",
       "      <td>1.00</td>\n",
       "    </tr>\n",
       "    <tr>\n",
       "      <td>25%</td>\n",
       "      <td>33.00</td>\n",
       "      <td>54.00</td>\n",
       "      <td>8.00</td>\n",
       "      <td>100.00</td>\n",
       "      <td>1.00</td>\n",
       "    </tr>\n",
       "    <tr>\n",
       "      <td>50%</td>\n",
       "      <td>39.00</td>\n",
       "      <td>407.00</td>\n",
       "      <td>17.00</td>\n",
       "      <td>175.00</td>\n",
       "      <td>2.00</td>\n",
       "    </tr>\n",
       "    <tr>\n",
       "      <td>75%</td>\n",
       "      <td>48.00</td>\n",
       "      <td>1319.00</td>\n",
       "      <td>21.00</td>\n",
       "      <td>313.00</td>\n",
       "      <td>3.00</td>\n",
       "    </tr>\n",
       "    <tr>\n",
       "      <td>max</td>\n",
       "      <td>95.00</td>\n",
       "      <td>102127.00</td>\n",
       "      <td>31.00</td>\n",
       "      <td>4918.00</td>\n",
       "      <td>63.00</td>\n",
       "    </tr>\n",
       "  </tbody>\n",
       "</table>\n",
       "</div>"
      ],
      "text/plain": [
       "           age   balance      day  duration  campaign\n",
       "count 40000.00  40000.00 40000.00  40000.00  40000.00\n",
       "mean     40.54   1274.28    16.02    254.82      2.88\n",
       "std       9.64   2903.77     8.28    259.37      3.24\n",
       "min      19.00  -8019.00     1.00      0.00      1.00\n",
       "25%      33.00     54.00     8.00    100.00      1.00\n",
       "50%      39.00    407.00    17.00    175.00      2.00\n",
       "75%      48.00   1319.00    21.00    313.00      3.00\n",
       "max      95.00 102127.00    31.00   4918.00     63.00"
      ]
     },
     "execution_count": 7,
     "metadata": {},
     "output_type": "execute_result"
    }
   ],
   "source": [
    "# It looks like feedback from custmers (features) is on 1-5 scale lets check\n",
    "td.describe()"
   ]
  },
  {
   "cell_type": "code",
   "execution_count": 8,
   "metadata": {},
   "outputs": [
    {
     "data": {
      "text/html": [
       "<div>\n",
       "<style scoped>\n",
       "    .dataframe tbody tr th:only-of-type {\n",
       "        vertical-align: middle;\n",
       "    }\n",
       "\n",
       "    .dataframe tbody tr th {\n",
       "        vertical-align: top;\n",
       "    }\n",
       "\n",
       "    .dataframe thead th {\n",
       "        text-align: right;\n",
       "    }\n",
       "</style>\n",
       "<table border=\"1\" class=\"dataframe\">\n",
       "  <thead>\n",
       "    <tr style=\"text-align: right;\">\n",
       "      <th></th>\n",
       "      <th>age</th>\n",
       "      <th>job</th>\n",
       "      <th>marital</th>\n",
       "      <th>education</th>\n",
       "      <th>default</th>\n",
       "      <th>balance</th>\n",
       "      <th>housing</th>\n",
       "      <th>loan</th>\n",
       "      <th>contact</th>\n",
       "      <th>day</th>\n",
       "      <th>month</th>\n",
       "      <th>duration</th>\n",
       "      <th>campaign</th>\n",
       "      <th>y</th>\n",
       "    </tr>\n",
       "  </thead>\n",
       "  <tbody>\n",
       "    <tr>\n",
       "      <td>0</td>\n",
       "      <td>58</td>\n",
       "      <td>management</td>\n",
       "      <td>married</td>\n",
       "      <td>tertiary</td>\n",
       "      <td>0</td>\n",
       "      <td>2143</td>\n",
       "      <td>1</td>\n",
       "      <td>0</td>\n",
       "      <td>unknown</td>\n",
       "      <td>5</td>\n",
       "      <td>may</td>\n",
       "      <td>261</td>\n",
       "      <td>1</td>\n",
       "      <td>0</td>\n",
       "    </tr>\n",
       "    <tr>\n",
       "      <td>1</td>\n",
       "      <td>44</td>\n",
       "      <td>technician</td>\n",
       "      <td>single</td>\n",
       "      <td>secondary</td>\n",
       "      <td>0</td>\n",
       "      <td>29</td>\n",
       "      <td>1</td>\n",
       "      <td>0</td>\n",
       "      <td>unknown</td>\n",
       "      <td>5</td>\n",
       "      <td>may</td>\n",
       "      <td>151</td>\n",
       "      <td>1</td>\n",
       "      <td>0</td>\n",
       "    </tr>\n",
       "    <tr>\n",
       "      <td>2</td>\n",
       "      <td>33</td>\n",
       "      <td>entrepreneur</td>\n",
       "      <td>married</td>\n",
       "      <td>secondary</td>\n",
       "      <td>0</td>\n",
       "      <td>2</td>\n",
       "      <td>1</td>\n",
       "      <td>1</td>\n",
       "      <td>unknown</td>\n",
       "      <td>5</td>\n",
       "      <td>may</td>\n",
       "      <td>76</td>\n",
       "      <td>1</td>\n",
       "      <td>0</td>\n",
       "    </tr>\n",
       "    <tr>\n",
       "      <td>3</td>\n",
       "      <td>47</td>\n",
       "      <td>blue-collar</td>\n",
       "      <td>married</td>\n",
       "      <td>unknown</td>\n",
       "      <td>0</td>\n",
       "      <td>1506</td>\n",
       "      <td>1</td>\n",
       "      <td>0</td>\n",
       "      <td>unknown</td>\n",
       "      <td>5</td>\n",
       "      <td>may</td>\n",
       "      <td>92</td>\n",
       "      <td>1</td>\n",
       "      <td>0</td>\n",
       "    </tr>\n",
       "    <tr>\n",
       "      <td>4</td>\n",
       "      <td>33</td>\n",
       "      <td>unknown</td>\n",
       "      <td>single</td>\n",
       "      <td>unknown</td>\n",
       "      <td>0</td>\n",
       "      <td>1</td>\n",
       "      <td>0</td>\n",
       "      <td>0</td>\n",
       "      <td>unknown</td>\n",
       "      <td>5</td>\n",
       "      <td>may</td>\n",
       "      <td>198</td>\n",
       "      <td>1</td>\n",
       "      <td>0</td>\n",
       "    </tr>\n",
       "    <tr>\n",
       "      <td>...</td>\n",
       "      <td>...</td>\n",
       "      <td>...</td>\n",
       "      <td>...</td>\n",
       "      <td>...</td>\n",
       "      <td>...</td>\n",
       "      <td>...</td>\n",
       "      <td>...</td>\n",
       "      <td>...</td>\n",
       "      <td>...</td>\n",
       "      <td>...</td>\n",
       "      <td>...</td>\n",
       "      <td>...</td>\n",
       "      <td>...</td>\n",
       "      <td>...</td>\n",
       "    </tr>\n",
       "    <tr>\n",
       "      <td>39995</td>\n",
       "      <td>53</td>\n",
       "      <td>technician</td>\n",
       "      <td>married</td>\n",
       "      <td>tertiary</td>\n",
       "      <td>0</td>\n",
       "      <td>395</td>\n",
       "      <td>0</td>\n",
       "      <td>0</td>\n",
       "      <td>cellular</td>\n",
       "      <td>3</td>\n",
       "      <td>jun</td>\n",
       "      <td>107</td>\n",
       "      <td>1</td>\n",
       "      <td>0</td>\n",
       "    </tr>\n",
       "    <tr>\n",
       "      <td>39996</td>\n",
       "      <td>30</td>\n",
       "      <td>management</td>\n",
       "      <td>single</td>\n",
       "      <td>tertiary</td>\n",
       "      <td>0</td>\n",
       "      <td>3340</td>\n",
       "      <td>0</td>\n",
       "      <td>0</td>\n",
       "      <td>cellular</td>\n",
       "      <td>3</td>\n",
       "      <td>jun</td>\n",
       "      <td>238</td>\n",
       "      <td>3</td>\n",
       "      <td>1</td>\n",
       "    </tr>\n",
       "    <tr>\n",
       "      <td>39997</td>\n",
       "      <td>54</td>\n",
       "      <td>admin</td>\n",
       "      <td>divorced</td>\n",
       "      <td>secondary</td>\n",
       "      <td>0</td>\n",
       "      <td>200</td>\n",
       "      <td>0</td>\n",
       "      <td>0</td>\n",
       "      <td>cellular</td>\n",
       "      <td>3</td>\n",
       "      <td>jun</td>\n",
       "      <td>170</td>\n",
       "      <td>1</td>\n",
       "      <td>1</td>\n",
       "    </tr>\n",
       "    <tr>\n",
       "      <td>39998</td>\n",
       "      <td>34</td>\n",
       "      <td>management</td>\n",
       "      <td>married</td>\n",
       "      <td>tertiary</td>\n",
       "      <td>0</td>\n",
       "      <td>1047</td>\n",
       "      <td>0</td>\n",
       "      <td>0</td>\n",
       "      <td>cellular</td>\n",
       "      <td>3</td>\n",
       "      <td>jun</td>\n",
       "      <td>342</td>\n",
       "      <td>1</td>\n",
       "      <td>0</td>\n",
       "    </tr>\n",
       "    <tr>\n",
       "      <td>39999</td>\n",
       "      <td>38</td>\n",
       "      <td>technician</td>\n",
       "      <td>married</td>\n",
       "      <td>secondary</td>\n",
       "      <td>0</td>\n",
       "      <td>1442</td>\n",
       "      <td>1</td>\n",
       "      <td>0</td>\n",
       "      <td>cellular</td>\n",
       "      <td>3</td>\n",
       "      <td>jun</td>\n",
       "      <td>113</td>\n",
       "      <td>1</td>\n",
       "      <td>0</td>\n",
       "    </tr>\n",
       "  </tbody>\n",
       "</table>\n",
       "<p>40000 rows × 14 columns</p>\n",
       "</div>"
      ],
      "text/plain": [
       "       age           job   marital  education  default  balance  housing  \\\n",
       "0       58    management   married   tertiary        0     2143        1   \n",
       "1       44    technician    single  secondary        0       29        1   \n",
       "2       33  entrepreneur   married  secondary        0        2        1   \n",
       "3       47   blue-collar   married    unknown        0     1506        1   \n",
       "4       33       unknown    single    unknown        0        1        0   \n",
       "...    ...           ...       ...        ...      ...      ...      ...   \n",
       "39995   53    technician   married   tertiary        0      395        0   \n",
       "39996   30    management    single   tertiary        0     3340        0   \n",
       "39997   54         admin  divorced  secondary        0      200        0   \n",
       "39998   34    management   married   tertiary        0     1047        0   \n",
       "39999   38    technician   married  secondary        0     1442        1   \n",
       "\n",
       "       loan   contact  day month  duration  campaign  y  \n",
       "0         0   unknown    5   may       261         1  0  \n",
       "1         0   unknown    5   may       151         1  0  \n",
       "2         1   unknown    5   may        76         1  0  \n",
       "3         0   unknown    5   may        92         1  0  \n",
       "4         0   unknown    5   may       198         1  0  \n",
       "...     ...       ...  ...   ...       ...       ... ..  \n",
       "39995     0  cellular    3   jun       107         1  0  \n",
       "39996     0  cellular    3   jun       238         3  1  \n",
       "39997     0  cellular    3   jun       170         1  1  \n",
       "39998     0  cellular    3   jun       342         1  0  \n",
       "39999     0  cellular    3   jun       113         1  0  \n",
       "\n",
       "[40000 rows x 14 columns]"
      ]
     },
     "execution_count": 8,
     "metadata": {},
     "output_type": "execute_result"
    }
   ],
   "source": [
    "'''Since the label of the data-set are given in terms of ‘yes’ and ‘no’, it’s necessary to replace them with numbers,\n",
    "possibly with 1 and 0 respectively, so that they can be used in modelling of the data. In the first step we will convert \n",
    "the output labels of the data-set from binary strings of yes/no to integers 1/0.'''\n",
    "\n",
    "td['y'] = (td['y'] == 'yes').astype(int)  # changing yes to 1 and no to 0\n",
    "td['default'] = (td['default'] == 'yes').astype(int)  # changing yes to 1 and no to 0\n",
    "td['loan'] = (td['loan'] == 'yes').astype(int)  # changing yes to 1 and no to 0\n",
    "td['housing'] = (td['housing'] == 'yes').astype(int)  # changing yes to 1 and no to 0\n",
    "\n",
    "td"
   ]
  },
  {
   "cell_type": "code",
   "execution_count": 9,
   "metadata": {},
   "outputs": [
    {
     "data": {
      "text/html": [
       "<div>\n",
       "<style scoped>\n",
       "    .dataframe tbody tr th:only-of-type {\n",
       "        vertical-align: middle;\n",
       "    }\n",
       "\n",
       "    .dataframe tbody tr th {\n",
       "        vertical-align: top;\n",
       "    }\n",
       "\n",
       "    .dataframe thead th {\n",
       "        text-align: right;\n",
       "    }\n",
       "</style>\n",
       "<table border=\"1\" class=\"dataframe\">\n",
       "  <thead>\n",
       "    <tr style=\"text-align: right;\">\n",
       "      <th></th>\n",
       "      <th>age</th>\n",
       "      <th>default</th>\n",
       "      <th>balance</th>\n",
       "      <th>housing</th>\n",
       "      <th>loan</th>\n",
       "      <th>day</th>\n",
       "      <th>duration</th>\n",
       "      <th>campaign</th>\n",
       "      <th>y</th>\n",
       "      <th>marital_divorced</th>\n",
       "      <th>...</th>\n",
       "      <th>job_entrepreneur</th>\n",
       "      <th>job_housemaid</th>\n",
       "      <th>job_management</th>\n",
       "      <th>job_retired</th>\n",
       "      <th>job_self-employed</th>\n",
       "      <th>job_services</th>\n",
       "      <th>job_student</th>\n",
       "      <th>job_technician</th>\n",
       "      <th>job_unemployed</th>\n",
       "      <th>job_unknown</th>\n",
       "    </tr>\n",
       "  </thead>\n",
       "  <tbody>\n",
       "    <tr>\n",
       "      <td>0</td>\n",
       "      <td>58</td>\n",
       "      <td>0</td>\n",
       "      <td>2143</td>\n",
       "      <td>1</td>\n",
       "      <td>0</td>\n",
       "      <td>5</td>\n",
       "      <td>261</td>\n",
       "      <td>1</td>\n",
       "      <td>0</td>\n",
       "      <td>0</td>\n",
       "      <td>...</td>\n",
       "      <td>0</td>\n",
       "      <td>0</td>\n",
       "      <td>1</td>\n",
       "      <td>0</td>\n",
       "      <td>0</td>\n",
       "      <td>0</td>\n",
       "      <td>0</td>\n",
       "      <td>0</td>\n",
       "      <td>0</td>\n",
       "      <td>0</td>\n",
       "    </tr>\n",
       "    <tr>\n",
       "      <td>1</td>\n",
       "      <td>44</td>\n",
       "      <td>0</td>\n",
       "      <td>29</td>\n",
       "      <td>1</td>\n",
       "      <td>0</td>\n",
       "      <td>5</td>\n",
       "      <td>151</td>\n",
       "      <td>1</td>\n",
       "      <td>0</td>\n",
       "      <td>0</td>\n",
       "      <td>...</td>\n",
       "      <td>0</td>\n",
       "      <td>0</td>\n",
       "      <td>0</td>\n",
       "      <td>0</td>\n",
       "      <td>0</td>\n",
       "      <td>0</td>\n",
       "      <td>0</td>\n",
       "      <td>1</td>\n",
       "      <td>0</td>\n",
       "      <td>0</td>\n",
       "    </tr>\n",
       "    <tr>\n",
       "      <td>2</td>\n",
       "      <td>33</td>\n",
       "      <td>0</td>\n",
       "      <td>2</td>\n",
       "      <td>1</td>\n",
       "      <td>1</td>\n",
       "      <td>5</td>\n",
       "      <td>76</td>\n",
       "      <td>1</td>\n",
       "      <td>0</td>\n",
       "      <td>0</td>\n",
       "      <td>...</td>\n",
       "      <td>1</td>\n",
       "      <td>0</td>\n",
       "      <td>0</td>\n",
       "      <td>0</td>\n",
       "      <td>0</td>\n",
       "      <td>0</td>\n",
       "      <td>0</td>\n",
       "      <td>0</td>\n",
       "      <td>0</td>\n",
       "      <td>0</td>\n",
       "    </tr>\n",
       "    <tr>\n",
       "      <td>3</td>\n",
       "      <td>47</td>\n",
       "      <td>0</td>\n",
       "      <td>1506</td>\n",
       "      <td>1</td>\n",
       "      <td>0</td>\n",
       "      <td>5</td>\n",
       "      <td>92</td>\n",
       "      <td>1</td>\n",
       "      <td>0</td>\n",
       "      <td>0</td>\n",
       "      <td>...</td>\n",
       "      <td>0</td>\n",
       "      <td>0</td>\n",
       "      <td>0</td>\n",
       "      <td>0</td>\n",
       "      <td>0</td>\n",
       "      <td>0</td>\n",
       "      <td>0</td>\n",
       "      <td>0</td>\n",
       "      <td>0</td>\n",
       "      <td>0</td>\n",
       "    </tr>\n",
       "    <tr>\n",
       "      <td>4</td>\n",
       "      <td>33</td>\n",
       "      <td>0</td>\n",
       "      <td>1</td>\n",
       "      <td>0</td>\n",
       "      <td>0</td>\n",
       "      <td>5</td>\n",
       "      <td>198</td>\n",
       "      <td>1</td>\n",
       "      <td>0</td>\n",
       "      <td>0</td>\n",
       "      <td>...</td>\n",
       "      <td>0</td>\n",
       "      <td>0</td>\n",
       "      <td>0</td>\n",
       "      <td>0</td>\n",
       "      <td>0</td>\n",
       "      <td>0</td>\n",
       "      <td>0</td>\n",
       "      <td>0</td>\n",
       "      <td>0</td>\n",
       "      <td>1</td>\n",
       "    </tr>\n",
       "    <tr>\n",
       "      <td>...</td>\n",
       "      <td>...</td>\n",
       "      <td>...</td>\n",
       "      <td>...</td>\n",
       "      <td>...</td>\n",
       "      <td>...</td>\n",
       "      <td>...</td>\n",
       "      <td>...</td>\n",
       "      <td>...</td>\n",
       "      <td>...</td>\n",
       "      <td>...</td>\n",
       "      <td>...</td>\n",
       "      <td>...</td>\n",
       "      <td>...</td>\n",
       "      <td>...</td>\n",
       "      <td>...</td>\n",
       "      <td>...</td>\n",
       "      <td>...</td>\n",
       "      <td>...</td>\n",
       "      <td>...</td>\n",
       "      <td>...</td>\n",
       "      <td>...</td>\n",
       "    </tr>\n",
       "    <tr>\n",
       "      <td>39995</td>\n",
       "      <td>53</td>\n",
       "      <td>0</td>\n",
       "      <td>395</td>\n",
       "      <td>0</td>\n",
       "      <td>0</td>\n",
       "      <td>3</td>\n",
       "      <td>107</td>\n",
       "      <td>1</td>\n",
       "      <td>0</td>\n",
       "      <td>0</td>\n",
       "      <td>...</td>\n",
       "      <td>0</td>\n",
       "      <td>0</td>\n",
       "      <td>0</td>\n",
       "      <td>0</td>\n",
       "      <td>0</td>\n",
       "      <td>0</td>\n",
       "      <td>0</td>\n",
       "      <td>1</td>\n",
       "      <td>0</td>\n",
       "      <td>0</td>\n",
       "    </tr>\n",
       "    <tr>\n",
       "      <td>39996</td>\n",
       "      <td>30</td>\n",
       "      <td>0</td>\n",
       "      <td>3340</td>\n",
       "      <td>0</td>\n",
       "      <td>0</td>\n",
       "      <td>3</td>\n",
       "      <td>238</td>\n",
       "      <td>3</td>\n",
       "      <td>1</td>\n",
       "      <td>0</td>\n",
       "      <td>...</td>\n",
       "      <td>0</td>\n",
       "      <td>0</td>\n",
       "      <td>1</td>\n",
       "      <td>0</td>\n",
       "      <td>0</td>\n",
       "      <td>0</td>\n",
       "      <td>0</td>\n",
       "      <td>0</td>\n",
       "      <td>0</td>\n",
       "      <td>0</td>\n",
       "    </tr>\n",
       "    <tr>\n",
       "      <td>39997</td>\n",
       "      <td>54</td>\n",
       "      <td>0</td>\n",
       "      <td>200</td>\n",
       "      <td>0</td>\n",
       "      <td>0</td>\n",
       "      <td>3</td>\n",
       "      <td>170</td>\n",
       "      <td>1</td>\n",
       "      <td>1</td>\n",
       "      <td>1</td>\n",
       "      <td>...</td>\n",
       "      <td>0</td>\n",
       "      <td>0</td>\n",
       "      <td>0</td>\n",
       "      <td>0</td>\n",
       "      <td>0</td>\n",
       "      <td>0</td>\n",
       "      <td>0</td>\n",
       "      <td>0</td>\n",
       "      <td>0</td>\n",
       "      <td>0</td>\n",
       "    </tr>\n",
       "    <tr>\n",
       "      <td>39998</td>\n",
       "      <td>34</td>\n",
       "      <td>0</td>\n",
       "      <td>1047</td>\n",
       "      <td>0</td>\n",
       "      <td>0</td>\n",
       "      <td>3</td>\n",
       "      <td>342</td>\n",
       "      <td>1</td>\n",
       "      <td>0</td>\n",
       "      <td>0</td>\n",
       "      <td>...</td>\n",
       "      <td>0</td>\n",
       "      <td>0</td>\n",
       "      <td>1</td>\n",
       "      <td>0</td>\n",
       "      <td>0</td>\n",
       "      <td>0</td>\n",
       "      <td>0</td>\n",
       "      <td>0</td>\n",
       "      <td>0</td>\n",
       "      <td>0</td>\n",
       "    </tr>\n",
       "    <tr>\n",
       "      <td>39999</td>\n",
       "      <td>38</td>\n",
       "      <td>0</td>\n",
       "      <td>1442</td>\n",
       "      <td>1</td>\n",
       "      <td>0</td>\n",
       "      <td>3</td>\n",
       "      <td>113</td>\n",
       "      <td>1</td>\n",
       "      <td>0</td>\n",
       "      <td>0</td>\n",
       "      <td>...</td>\n",
       "      <td>0</td>\n",
       "      <td>0</td>\n",
       "      <td>0</td>\n",
       "      <td>0</td>\n",
       "      <td>0</td>\n",
       "      <td>0</td>\n",
       "      <td>0</td>\n",
       "      <td>1</td>\n",
       "      <td>0</td>\n",
       "      <td>0</td>\n",
       "    </tr>\n",
       "  </tbody>\n",
       "</table>\n",
       "<p>40000 rows × 42 columns</p>\n",
       "</div>"
      ],
      "text/plain": [
       "       age  default  balance  housing  loan  day  duration  campaign  y  \\\n",
       "0       58        0     2143        1     0    5       261         1  0   \n",
       "1       44        0       29        1     0    5       151         1  0   \n",
       "2       33        0        2        1     1    5        76         1  0   \n",
       "3       47        0     1506        1     0    5        92         1  0   \n",
       "4       33        0        1        0     0    5       198         1  0   \n",
       "...    ...      ...      ...      ...   ...  ...       ...       ... ..   \n",
       "39995   53        0      395        0     0    3       107         1  0   \n",
       "39996   30        0     3340        0     0    3       238         3  1   \n",
       "39997   54        0      200        0     0    3       170         1  1   \n",
       "39998   34        0     1047        0     0    3       342         1  0   \n",
       "39999   38        0     1442        1     0    3       113         1  0   \n",
       "\n",
       "       marital_divorced  ...  job_entrepreneur  job_housemaid  job_management  \\\n",
       "0                     0  ...                 0              0               1   \n",
       "1                     0  ...                 0              0               0   \n",
       "2                     0  ...                 1              0               0   \n",
       "3                     0  ...                 0              0               0   \n",
       "4                     0  ...                 0              0               0   \n",
       "...                 ...  ...               ...            ...             ...   \n",
       "39995                 0  ...                 0              0               0   \n",
       "39996                 0  ...                 0              0               1   \n",
       "39997                 1  ...                 0              0               0   \n",
       "39998                 0  ...                 0              0               1   \n",
       "39999                 0  ...                 0              0               0   \n",
       "\n",
       "       job_retired  job_self-employed  job_services  job_student  \\\n",
       "0                0                  0             0            0   \n",
       "1                0                  0             0            0   \n",
       "2                0                  0             0            0   \n",
       "3                0                  0             0            0   \n",
       "4                0                  0             0            0   \n",
       "...            ...                ...           ...          ...   \n",
       "39995            0                  0             0            0   \n",
       "39996            0                  0             0            0   \n",
       "39997            0                  0             0            0   \n",
       "39998            0                  0             0            0   \n",
       "39999            0                  0             0            0   \n",
       "\n",
       "       job_technician  job_unemployed  job_unknown  \n",
       "0                   0               0            0  \n",
       "1                   1               0            0  \n",
       "2                   0               0            0  \n",
       "3                   0               0            0  \n",
       "4                   0               0            1  \n",
       "...               ...             ...          ...  \n",
       "39995               1               0            0  \n",
       "39996               0               0            0  \n",
       "39997               0               0            0  \n",
       "39998               0               0            0  \n",
       "39999               1               0            0  \n",
       "\n",
       "[40000 rows x 42 columns]"
      ]
     },
     "execution_count": 9,
     "metadata": {},
     "output_type": "execute_result"
    }
   ],
   "source": [
    "# lets change all the features to binary class using get_dummies\n",
    "td = pd.get_dummies (td, columns = ['marital', 'education', 'contact', 'month','job'])\n",
    "td"
   ]
  },
  {
   "cell_type": "markdown",
   "metadata": {},
   "source": [
    "This graph shows, there is an outlier with the duration data. I will need to check using box plot. "
   ]
  },
  {
   "cell_type": "markdown",
   "metadata": {},
   "source": [
    "## Semih Notes\n",
    "\n",
    "+ Implement simple model\n",
    "+ Feature engineering \n",
    "+ Fixing the data (outliers, missing value etc)\n",
    "+ SHAP - interpretable machine learning \n",
    "+ building a complex model (as complex as it could overfit the data)."
   ]
  },
  {
   "cell_type": "code",
   "execution_count": 10,
   "metadata": {},
   "outputs": [
    {
     "name": "stdout",
     "output_type": "stream",
     "text": [
      "Dimensions of y before reshaping: (40000,)\n",
      "Dimensions of X before reshaping: (40000, 41)\n"
     ]
    }
   ],
   "source": [
    "# First implement simple model \n",
    "\n",
    "# Create arrays for features and target variable\n",
    "y = td['y'].values\n",
    "x = td.drop(['y'], axis=1)\n",
    "\n",
    "\n",
    "# Print the dimensions of X and y \n",
    "print(\"Dimensions of y before reshaping: {}\".format(y.shape))\n",
    "print(\"Dimensions of X before reshaping: {}\".format(x.shape))"
   ]
  },
  {
   "cell_type": "code",
   "execution_count": 11,
   "metadata": {},
   "outputs": [
    {
     "name": "stdout",
     "output_type": "stream",
     "text": [
      "[0 0 0 ... 1 0 0]\n"
     ]
    }
   ],
   "source": [
    "print (y)"
   ]
  },
  {
   "cell_type": "code",
   "execution_count": 12,
   "metadata": {},
   "outputs": [
    {
     "name": "stdout",
     "output_type": "stream",
     "text": [
      "       age  default  balance  housing  loan  day  duration  campaign  \\\n",
      "0       58        0     2143        1     0    5       261         1   \n",
      "1       44        0       29        1     0    5       151         1   \n",
      "2       33        0        2        1     1    5        76         1   \n",
      "3       47        0     1506        1     0    5        92         1   \n",
      "4       33        0        1        0     0    5       198         1   \n",
      "...    ...      ...      ...      ...   ...  ...       ...       ...   \n",
      "39995   53        0      395        0     0    3       107         1   \n",
      "39996   30        0     3340        0     0    3       238         3   \n",
      "39997   54        0      200        0     0    3       170         1   \n",
      "39998   34        0     1047        0     0    3       342         1   \n",
      "39999   38        0     1442        1     0    3       113         1   \n",
      "\n",
      "       marital_divorced  marital_married  ...  job_entrepreneur  \\\n",
      "0                     0                1  ...                 0   \n",
      "1                     0                0  ...                 0   \n",
      "2                     0                1  ...                 1   \n",
      "3                     0                1  ...                 0   \n",
      "4                     0                0  ...                 0   \n",
      "...                 ...              ...  ...               ...   \n",
      "39995                 0                1  ...                 0   \n",
      "39996                 0                0  ...                 0   \n",
      "39997                 1                0  ...                 0   \n",
      "39998                 0                1  ...                 0   \n",
      "39999                 0                1  ...                 0   \n",
      "\n",
      "       job_housemaid  job_management  job_retired  job_self-employed  \\\n",
      "0                  0               1            0                  0   \n",
      "1                  0               0            0                  0   \n",
      "2                  0               0            0                  0   \n",
      "3                  0               0            0                  0   \n",
      "4                  0               0            0                  0   \n",
      "...              ...             ...          ...                ...   \n",
      "39995              0               0            0                  0   \n",
      "39996              0               1            0                  0   \n",
      "39997              0               0            0                  0   \n",
      "39998              0               1            0                  0   \n",
      "39999              0               0            0                  0   \n",
      "\n",
      "       job_services  job_student  job_technician  job_unemployed  job_unknown  \n",
      "0                 0            0               0               0            0  \n",
      "1                 0            0               1               0            0  \n",
      "2                 0            0               0               0            0  \n",
      "3                 0            0               0               0            0  \n",
      "4                 0            0               0               0            1  \n",
      "...             ...          ...             ...             ...          ...  \n",
      "39995             0            0               1               0            0  \n",
      "39996             0            0               0               0            0  \n",
      "39997             0            0               0               0            0  \n",
      "39998             0            0               0               0            0  \n",
      "39999             0            0               1               0            0  \n",
      "\n",
      "[40000 rows x 41 columns]\n"
     ]
    }
   ],
   "source": [
    "print(x)"
   ]
  },
  {
   "cell_type": "code",
   "execution_count": 13,
   "metadata": {},
   "outputs": [
    {
     "name": "stdout",
     "output_type": "stream",
     "text": [
      "Training Accuracy: 0.93325\n",
      "Testing Accuracy: 0.928625\n"
     ]
    }
   ],
   "source": [
    "# Split the data into a training and test set.\n",
    "x_train, x_test, y_train, y_test = train_test_split(x, y,random_state = 5, test_size = 0.2)\n",
    "\n",
    "clf = LogisticRegression(solver='lbfgs')\n",
    "# Fit the model on the trainng data.\n",
    "clf.fit(x_train, y_train)\n",
    "\n",
    "# Print the accuracy\n",
    "print('Training Accuracy: {}'.format((accuracy_score(clf.predict(x_train), y_train))))\n",
    "print('Testing Accuracy: {}'.format((accuracy_score(clf.predict(x_test), y_test))))"
   ]
  },
  {
   "cell_type": "code",
   "execution_count": 14,
   "metadata": {},
   "outputs": [
    {
     "data": {
      "text/plain": [
       "(32000, 41)"
      ]
     },
     "execution_count": 14,
     "metadata": {},
     "output_type": "execute_result"
    }
   ],
   "source": [
    "x_train.shape"
   ]
  },
  {
   "cell_type": "code",
   "execution_count": 15,
   "metadata": {},
   "outputs": [
    {
     "data": {
      "text/plain": [
       "(32000,)"
      ]
     },
     "execution_count": 15,
     "metadata": {},
     "output_type": "execute_result"
    }
   ],
   "source": [
    "y_train.shape"
   ]
  },
  {
   "cell_type": "code",
   "execution_count": 16,
   "metadata": {},
   "outputs": [
    {
     "data": {
      "text/plain": [
       "0    37104\n",
       "1     2896\n",
       "Name: y, dtype: int64"
      ]
     },
     "execution_count": 16,
     "metadata": {},
     "output_type": "execute_result"
    }
   ],
   "source": [
    "td['y'].value_counts()"
   ]
  },
  {
   "cell_type": "code",
   "execution_count": 17,
   "metadata": {},
   "outputs": [
    {
     "name": "stdout",
     "output_type": "stream",
     "text": [
      "[[7291   83]\n",
      " [ 488  138]]\n",
      "              precision    recall  f1-score   support\n",
      "\n",
      "           0       0.94      0.99      0.96      7374\n",
      "           1       0.62      0.22      0.33       626\n",
      "\n",
      "    accuracy                           0.93      8000\n",
      "   macro avg       0.78      0.60      0.64      8000\n",
      "weighted avg       0.91      0.93      0.91      8000\n",
      "\n"
     ]
    }
   ],
   "source": [
    "# Generate the confusion matrix and classification report\n",
    "\n",
    "ypred = clf.predict(x_test)\n",
    "# Generate the confusion matrix and classification report\n",
    "print(confusion_matrix(y_test, ypred))\n",
    "print(classification_report(y_test, ypred))"
   ]
  },
  {
   "cell_type": "markdown",
   "metadata": {},
   "source": [
    "## additional notes: \n",
    "- oversampling/ undersampling \n",
    "- find out how the data would do if you undersample the data \n",
    "- use the libarary imblearn (random undersampler) \n",
    "- feature enginering - use tree-based algorithm to see what particular features would add value to solve the problems (feature importance and coefficients). \n",
    "- measure the absolute effect feature. "
   ]
  },
  {
   "cell_type": "code",
   "execution_count": 18,
   "metadata": {},
   "outputs": [
    {
     "name": "stdout",
     "output_type": "stream",
     "text": [
      "Counter({0: 2896, 1: 2896})\n"
     ]
    }
   ],
   "source": [
    "# First lets try how the model performs if we can randomly undersmaple the Class 0, to blance the data. \n",
    "\n",
    "rus = RandomUnderSampler(sampling_strategy = 'majority')\n",
    "x_res, y_res = rus.fit_resample (x, y)\n",
    "# summarize class distribution\n",
    "\n",
    "print(Counter(y_res))"
   ]
  },
  {
   "cell_type": "raw",
   "metadata": {},
   "source": [
    "We can see that that majority class is undersampled to have the same number of examples as the minority class. Judgment and empirical results will have to be used as to whether a training dataset with just 2896 would be sufficient to train a model."
   ]
  },
  {
   "cell_type": "code",
   "execution_count": 19,
   "metadata": {},
   "outputs": [
    {
     "name": "stdout",
     "output_type": "stream",
     "text": [
      "[[483  97]\n",
      " [115 464]]\n",
      "              precision    recall  f1-score   support\n",
      "\n",
      "           0       0.81      0.83      0.82       580\n",
      "           1       0.83      0.80      0.81       579\n",
      "\n",
      "    accuracy                           0.82      1159\n",
      "   macro avg       0.82      0.82      0.82      1159\n",
      "weighted avg       0.82      0.82      0.82      1159\n",
      "\n"
     ]
    }
   ],
   "source": [
    "# Split the data into a training and test set.\n",
    "x_res_train, x_res_test, y_res_train, y_res_test = train_test_split(x_res, y_res,random_state = 5, test_size = 0.2)\n",
    "\n",
    "# Fit the model on the trainng data.\n",
    "clf.fit(x_res_train, y_res_train)\n",
    "y_res_pred = clf.predict(x_res_test)\n",
    "# Generate the confusion matrix and classification report\n",
    "print(confusion_matrix(y_res_test, y_res_pred))\n",
    "print(classification_report(y_res_test, y_res_pred))"
   ]
  },
  {
   "cell_type": "code",
   "execution_count": 20,
   "metadata": {},
   "outputs": [
    {
     "data": {
      "text/plain": [
       "(4633, 41)"
      ]
     },
     "execution_count": 20,
     "metadata": {},
     "output_type": "execute_result"
    }
   ],
   "source": [
    "x_res_train.shape"
   ]
  },
  {
   "cell_type": "code",
   "execution_count": 21,
   "metadata": {},
   "outputs": [
    {
     "name": "stdout",
     "output_type": "stream",
     "text": [
      "Counter({0: 37104, 1: 37104})\n"
     ]
    }
   ],
   "source": [
    "from imblearn.over_sampling import RandomOverSampler\n",
    "# lets try how the model performs if we can randomly oversmaple the Class 1, to blance the data. \n",
    "\n",
    "ros = RandomOverSampler(sampling_strategy = 'minority')\n",
    "x_ros, y_ros = ros.fit_resample (x, y)\n",
    "# summarize class distribution\n",
    "\n",
    "print(Counter(y_ros)) \n"
   ]
  },
  {
   "cell_type": "code",
   "execution_count": 22,
   "metadata": {},
   "outputs": [
    {
     "name": "stdout",
     "output_type": "stream",
     "text": [
      "[[6390 1086]\n",
      " [1516 5850]]\n",
      "              precision    recall  f1-score   support\n",
      "\n",
      "           0       0.81      0.85      0.83      7476\n",
      "           1       0.84      0.79      0.82      7366\n",
      "\n",
      "    accuracy                           0.82     14842\n",
      "   macro avg       0.83      0.82      0.82     14842\n",
      "weighted avg       0.83      0.82      0.82     14842\n",
      "\n"
     ]
    }
   ],
   "source": [
    "# Split the data into a training and test set.\n",
    "x_ros_train, x_ros_test, y_ros_train, y_ros_test = train_test_split(x_ros, y_ros,random_state = 5, test_size = 0.2)\n",
    "\n",
    "# Fit the model on the trainng data.\n",
    "clf.fit(x_ros_train, y_ros_train)\n",
    "y_ros_pred = clf.predict(x_ros_test)\n",
    "# Generate the confusion matrix and classification report\n",
    "print(confusion_matrix(y_ros_test, y_ros_pred))\n",
    "print(classification_report(y_ros_test, y_ros_pred))"
   ]
  },
  {
   "cell_type": "raw",
   "metadata": {},
   "source": [
    "undersample vs oversample \n",
    "- Helps during deployment, could help train your model much faster (with smaller data). Less time, less resource usage, less computational cost.\n",
    "-"
   ]
  },
  {
   "cell_type": "markdown",
   "metadata": {},
   "source": [
    "### Feature Engineering \n",
    "Use tree-based algorithm to see what particular features would add value to solve the problems (feature importance and coefficients). How does Random forest select features?\n",
    "Random forests consist of 4 –12 hundred decision trees, each of them built over a random extraction of the observations from the dataset and a random extraction of the features. Not every tree sees all the features or all the observations, and this guarantees that the trees are de-correlated and therefore less prone to over-fitting. Each tree is also a sequence of yes-no questions based on a single or combination of features. At each node (this is at each question), the three divides the dataset into 2 buckets, each of them hosting observations that are more similar among themselves and different from the ones in the other bucket. Therefore, the importance of each feature is derived from how “pure” each of the buckets is."
   ]
  },
  {
   "cell_type": "code",
   "execution_count": 23,
   "metadata": {},
   "outputs": [
    {
     "data": {
      "text/plain": [
       "array([ True, False,  True, False, False,  True,  True,  True, False,\n",
       "       False, False, False, False, False, False, False, False, False,\n",
       "       False, False, False, False, False, False, False, False, False,\n",
       "       False, False, False, False, False, False, False, False, False,\n",
       "       False, False, False, False, False])"
      ]
     },
     "execution_count": 23,
     "metadata": {},
     "output_type": "execute_result"
    }
   ],
   "source": [
    "# feature enginering \n",
    "\n",
    "x_train, x_test, y_train, y_test = train_test_split(x,y, random_state = 42, test_size = 0.3)\n",
    "fselect = SelectFromModel (RandomForestClassifier(n_estimators = 100)) # model fitting and feature selection in one line code\n",
    "fselect.fit(x_train, y_train) # in feature selection procedures, its a good practice to select the features by examining only the training set to avoid overfitting. \n",
    "\n",
    "# To see which features are important we can sue get_support method on the fitted model\n",
    "\n",
    "fselect.get_support()\n",
    "\n",
    "\n",
    "\n"
   ]
  },
  {
   "cell_type": "code",
   "execution_count": 24,
   "metadata": {},
   "outputs": [
    {
     "data": {
      "text/plain": [
       "array([0, 2, 5, 6, 7], dtype=int64)"
      ]
     },
     "execution_count": 24,
     "metadata": {},
     "output_type": "execute_result"
    }
   ],
   "source": [
    "fselect.get_support(indices = True)"
   ]
  },
  {
   "cell_type": "code",
   "execution_count": 25,
   "metadata": {},
   "outputs": [
    {
     "data": {
      "text/plain": [
       "5"
      ]
     },
     "execution_count": 25,
     "metadata": {},
     "output_type": "execute_result"
    }
   ],
   "source": [
    "# Make a list and count the selected features\n",
    "\n",
    "x_train = pd.DataFrame(x_train)\n",
    "selected_f = x_train.columns[(fselect.get_support())]\n",
    "len(selected_f)\n",
    "\n"
   ]
  },
  {
   "cell_type": "code",
   "execution_count": 26,
   "metadata": {},
   "outputs": [
    {
     "name": "stdout",
     "output_type": "stream",
     "text": [
      "Index(['age', 'balance', 'day', 'duration', 'campaign'], dtype='object')\n"
     ]
    }
   ],
   "source": [
    "# Get the name of the selected features \n",
    "print(selected_f)"
   ]
  },
  {
   "cell_type": "code",
   "execution_count": 27,
   "metadata": {},
   "outputs": [
    {
     "data": {
      "text/plain": [
       "0.024390243902439025"
      ]
     },
     "execution_count": 27,
     "metadata": {},
     "output_type": "execute_result"
    }
   ],
   "source": [
    "# Threshold used \n",
    "\n",
    "fselect.threshold_"
   ]
  },
  {
   "cell_type": "code",
   "execution_count": 28,
   "metadata": {},
   "outputs": [
    {
     "data": {
      "text/plain": [
       "<matplotlib.axes._subplots.AxesSubplot at 0x24ad57eadc8>"
      ]
     },
     "execution_count": 28,
     "metadata": {},
     "output_type": "execute_result"
    },
    {
     "data": {
      "image/png": "[encoded data removed]",
      "text/plain": [
       "<Figure size 432x288 with 1 Axes>"
      ]
     },
     "metadata": {
      "needs_background": "light"
     },
     "output_type": "display_data"
    }
   ],
   "source": [
    "# plot distribution of feature importance \n",
    "\n",
    "pd.Series(fselect.estimator_.feature_importances_.ravel()).hist()"
   ]
  },
  {
   "cell_type": "code",
   "execution_count": 29,
   "metadata": {},
   "outputs": [
    {
     "data": {
      "text/plain": [
       "array([[  58, 2143,    5,  261,    1],\n",
       "       [  44,   29,    5,  151,    1],\n",
       "       [  33,    2,    5,   76,    1],\n",
       "       ...,\n",
       "       [  54,  200,    3,  170,    1],\n",
       "       [  34, 1047,    3,  342,    1],\n",
       "       [  38, 1442,    3,  113,    1]], dtype=int64)"
      ]
     },
     "execution_count": 29,
     "metadata": {},
     "output_type": "execute_result"
    }
   ],
   "source": [
    "# model.transform (data) reduce the data to the selected features\n",
    "\n",
    "x_sel = fselect.transform(x)\n",
    "x_sel\n"
   ]
  },
  {
   "cell_type": "code",
   "execution_count": 30,
   "metadata": {},
   "outputs": [
    {
     "name": "stdout",
     "output_type": "stream",
     "text": [
      "Training Accuracy: 0.9335\n",
      "Testing Accuracy: 0.929125\n"
     ]
    }
   ],
   "source": [
    "# Fit logistic regression using only selected features \n",
    "\n",
    "# Split the data into a training and test set.\n",
    "x_train_s, x_test_s, y_train, y_test = train_test_split(x_sel, y,random_state = 5, test_size = 0.2)\n",
    "\n",
    "clf_s = LogisticRegression(solver='lbfgs')\n",
    "# Fit the model on the trainng data.\n",
    "clf_s.fit(x_train_s, y_train)\n",
    "\n",
    "# Print the accuracy\n",
    "print('Training Accuracy: {}'.format((accuracy_score(clf_s.predict(x_train_s), y_train))))\n",
    "print('Testing Accuracy: {}'.format((accuracy_score(clf_s.predict(x_test_s), y_test))))"
   ]
  },
  {
   "cell_type": "code",
   "execution_count": null,
   "metadata": {},
   "outputs": [],
   "source": []
  },
  {
   "cell_type": "code",
   "execution_count": 31,
   "metadata": {},
   "outputs": [
    {
     "data": {
      "text/plain": [
       "array([[  53,  340,   12,  138,    1],\n",
       "       [  36,   75,   12,  485,    2],\n",
       "       [  45, 1288,    7,  399,    6],\n",
       "       ...,\n",
       "       [  58, 1463,   12,  110,    3],\n",
       "       [  26,    1,   31,   14,   20],\n",
       "       [  59, 6237,    8,   63,    1]], dtype=int64)"
      ]
     },
     "execution_count": 31,
     "metadata": {},
     "output_type": "execute_result"
    }
   ],
   "source": [
    "x_train_s"
   ]
  },
  {
   "cell_type": "code",
   "execution_count": 32,
   "metadata": {},
   "outputs": [
    {
     "name": "stdout",
     "output_type": "stream",
     "text": [
      "[[7303   71]\n",
      " [ 496  130]]\n",
      "              precision    recall  f1-score   support\n",
      "\n",
      "           0       0.94      0.99      0.96      7374\n",
      "           1       0.65      0.21      0.31       626\n",
      "\n",
      "    accuracy                           0.93      8000\n",
      "   macro avg       0.79      0.60      0.64      8000\n",
      "weighted avg       0.91      0.93      0.91      8000\n",
      "\n"
     ]
    }
   ],
   "source": [
    "y_pred_s = clf_s.predict(x_test_s)\n",
    "# Generate the confusion matrix and classification report\n",
    "print(confusion_matrix(y_test, y_pred_s))\n",
    "print(classification_report(y_test, y_pred_s))"
   ]
  },
  {
   "cell_type": "code",
   "execution_count": 35,
   "metadata": {},
   "outputs": [
    {
     "name": "stdout",
     "output_type": "stream",
     "text": [
      "Training Accuracy: 0.9999285714285714\n",
      "Testing Accuracy: 0.932\n"
     ]
    }
   ],
   "source": [
    "# Fit Random Forest Classifier using selected features \n",
    "\n",
    "x_train_s, x_test_s, y_train, y_test = train_test_split(x_sel,y, random_state = 42, test_size = 0.3)\n",
    "rfc = (RandomForestClassifier(n_estimators = 100))\n",
    "rfc.fit(x_train_s, y_train)\n",
    "\n",
    "\n",
    "# Print the accuracy\n",
    "print('Training Accuracy: {}'.format((accuracy_score(rfc.predict(x_train_s), y_train))))\n",
    "print('Testing Accuracy: {}'.format((accuracy_score(rfc.predict(x_test_s), y_test))))"
   ]
  },
  {
   "cell_type": "raw",
   "metadata": {},
   "source": [
    "This is interesting. It looks like because we used RFC model to select the features using the training data, the training accuracy shows overfitting. The model already knows the data very well. "
   ]
  },
  {
   "cell_type": "code",
   "execution_count": 37,
   "metadata": {},
   "outputs": [
    {
     "name": "stdout",
     "output_type": "stream",
     "text": [
      "[[10958   170]\n",
      " [  646   226]]\n",
      "              precision    recall  f1-score   support\n",
      "\n",
      "           0       0.94      0.98      0.96     11128\n",
      "           1       0.57      0.26      0.36       872\n",
      "\n",
      "    accuracy                           0.93     12000\n",
      "   macro avg       0.76      0.62      0.66     12000\n",
      "weighted avg       0.92      0.93      0.92     12000\n",
      "\n"
     ]
    }
   ],
   "source": [
    "y_pred_s = rfc.predict(x_test_s)\n",
    "# Generate the confusion matrix and classification report\n",
    "print(confusion_matrix(y_test, y_pred_s))\n",
    "print(classification_report(y_test, y_pred_s))"
   ]
  },
  {
   "cell_type": "code",
   "execution_count": 38,
   "metadata": {},
   "outputs": [
    {
     "name": "stdout",
     "output_type": "stream",
     "text": [
      "[[469 111]\n",
      " [105 474]]\n",
      "              precision    recall  f1-score   support\n",
      "\n",
      "           0       0.82      0.81      0.81       580\n",
      "           1       0.81      0.82      0.81       579\n",
      "\n",
      "    accuracy                           0.81      1159\n",
      "   macro avg       0.81      0.81      0.81      1159\n",
      "weighted avg       0.81      0.81      0.81      1159\n",
      "\n"
     ]
    }
   ],
   "source": [
    "# lets use the undersample \n",
    "x_s_res, y_s_res = rus.fit_resample (x_sel, y)\n",
    "\n",
    "# Split the data into a training and test set.\n",
    "x_s_res_train, x_s_res_test, y_s_res_train, y_s_res_test = train_test_split(x_s_res, y_s_res, random_state = 5, test_size = 0.2)\n",
    "\n",
    "# Fit the model on the trainng data.\n",
    "rfc.fit(x_s_res_train, y_s_res_train)\n",
    "y_s_res_pred = rfc.predict(x_s_res_test)\n",
    "# Generate the confusion matrix and classification report\n",
    "print(confusion_matrix(y_s_res_test, y_s_res_pred))\n",
    "print(classification_report(y_s_res_test, y_s_res_pred))"
   ]
  },
  {
   "cell_type": "markdown",
   "metadata": {},
   "source": [
    "the same performance but based on only the 5 selected features. \n",
    "\n",
    "### Additional Note: 11/25 \n",
    "- Improve performance with the selected features and undersampled. Try outperform current performance. \n",
    "- other models inlcuding neural networks. Building a complex model (as complex as it could overfit the data).\n",
    "- What can we propose to the client? \n"
   ]
  },
  {
   "cell_type": "code",
   "execution_count": null,
   "metadata": {},
   "outputs": [],
   "source": []
  }
 ],
 "metadata": {
  "kernelspec": {
   "display_name": "Python 3",
   "language": "python",
   "name": "python3"
  },
  "language_info": {
   "codemirror_mode": {
    "name": "ipython",
    "version": 3
   },
   "file_extension": ".py",
   "mimetype": "text/x-python",
   "name": "python",
   "nbconvert_exporter": "python",
   "pygments_lexer": "ipython3",
   "version": "3.7.4"
  }
 },
 "nbformat": 4,
 "nbformat_minor": 4
}
